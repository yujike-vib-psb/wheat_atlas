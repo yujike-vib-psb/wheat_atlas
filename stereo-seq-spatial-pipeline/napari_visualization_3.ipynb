{
 "cells": [
  {
   "cell_type": "code",
   "execution_count": 17,
   "metadata": {},
   "outputs": [],
   "source": [
    "# Load libraries (kernel: napari-sparrow)\n",
    "\n",
    "import os\n",
    "import numpy as np\n",
    "import pandas as pd\n",
    "import xarray as xr\n",
    "import matplotlib.pyplot as plt\n",
    "import geopandas\n",
    "\n",
    "## Related to single-cell\n",
    "from anndata import AnnData\n",
    "import scanpy as sc\n",
    "import squidpy as sq\n",
    "\n",
    "import napari"
   ]
  },
  {
   "cell_type": "code",
   "execution_count": null,
   "metadata": {},
   "outputs": [],
   "source": []
  },
  {
   "attachments": {},
   "cell_type": "markdown",
   "metadata": {},
   "source": [
    "# Prepare data"
   ]
  },
  {
   "attachments": {},
   "cell_type": "markdown",
   "metadata": {},
   "source": [
    "## Load data"
   ]
  },
  {
   "cell_type": "code",
   "execution_count": 18,
   "metadata": {},
   "outputs": [],
   "source": [
    "# Load anndata and polygons\n",
    "adata      = sc.read(\"/Users/yujike/Desktop/Molecular_Plant_2023/Manuscript/vincent_very-crude-visualization/v1/adata.h5ad\")\n",
    "geop       = geopandas.read_file(\"/Users/yujike/Desktop/Molecular_Plant_2023/Manuscript/vincent_very-crude-visualization/v1/adata.geojson\", index_col = 0)\n",
    "geop.index = geop['index']\n",
    "adata.obsm['polygons'] = geop\n",
    "adata.obsm['polygons']['linewidth'] = 1\n",
    "\n",
    "del geop"
   ]
  },
  {
   "attachments": {},
   "cell_type": "markdown",
   "metadata": {},
   "source": [
    "## Select cells"
   ]
  },
  {
   "cell_type": "code",
   "execution_count": 20,
   "metadata": {},
   "outputs": [],
   "source": [
    "# Redefine the filtering function (the original does not work)\n",
    "from typing import List, Optional, Tuple\n",
    "def filter_on_size(\n",
    "    adata: AnnData, min_size: int = 100, max_size: int = 100000\n",
    ") -> Tuple[AnnData, int]:\n",
    "    \"\"\"Returns a tuple with the AnnData object and the number of filtered cells.\n",
    "\n",
    "    All cells outside of the min and max size range are removed.\n",
    "    If the distance between the location of the transcript and the center of the polygon is large, the cell is deleted.\n",
    "    \"\"\"\n",
    "\n",
    "    start = adata.shape[0]\n",
    "\n",
    "    # Calculate center of the cell and distance between transcript and polygon center\n",
    "    adata.obsm[\"polygons\"][\"X\"] = adata.obsm[\"polygons\"].centroid.x\n",
    "    adata.obsm[\"polygons\"][\"Y\"] = adata.obsm[\"polygons\"].centroid.y\n",
    "    adata.obs[\"distance\"] = np.sqrt(\n",
    "        np.square(adata.obsm[\"polygons\"][\"X\"] - adata.obsm[\"spatial\"].iloc[:, 0])\n",
    "        + np.square(adata.obsm[\"polygons\"][\"Y\"] - adata.obsm[\"spatial\"].iloc[:, 1])\n",
    "    )\n",
    "\n",
    "    # Filter cells based on size and distance\n",
    "    #adata = adata[adata.obs[\"nucleusSize\"] < max_size, :]\n",
    "    #adata = adata[adata.obs[\"nucleusSize\"] > min_size, :]\n",
    "    adata=adata[adata.obsm['polygons'].area>min_size,:]\n",
    "    adata.obsm[\"polygons\"] = geopandas.GeoDataFrame(\n",
    "        adata.obsm[\"polygons\"], geometry=adata.obsm[\"polygons\"].geometry\n",
    "    )\n",
    "    adata=adata[adata.obsm['polygons'].area<max_size,:]\n",
    "\n",
    "    adata = adata[adata.obs[\"distance\"] < 70, :]\n",
    "    adata.obsm[\"polygons\"] = geopandas.GeoDataFrame(\n",
    "        adata.obsm[\"polygons\"], geometry=adata.obsm[\"polygons\"].geometry\n",
    "    )\n",
    "    filtered = start - adata.shape[0]\n",
    "\n",
    "    return adata, filtered"
   ]
  },
  {
   "cell_type": "code",
   "execution_count": 21,
   "metadata": {},
   "outputs": [
    {
     "name": "stderr",
     "output_type": "stream",
     "text": [
      "/var/folders/ch/nyzh10996mzbm4r4pj4m0qd00000gn/T/ipykernel_26370/3350284418.py:15: UserWarning: Geometry is in a geographic CRS. Results from 'centroid' are likely incorrect. Use 'GeoSeries.to_crs()' to re-project geometries to a projected CRS before this operation.\n",
      "\n",
      "  adata.obsm[\"polygons\"][\"X\"] = adata.obsm[\"polygons\"].centroid.x\n",
      "/var/folders/ch/nyzh10996mzbm4r4pj4m0qd00000gn/T/ipykernel_26370/3350284418.py:16: UserWarning: Geometry is in a geographic CRS. Results from 'centroid' are likely incorrect. Use 'GeoSeries.to_crs()' to re-project geometries to a projected CRS before this operation.\n",
      "\n",
      "  adata.obsm[\"polygons\"][\"Y\"] = adata.obsm[\"polygons\"].centroid.y\n",
      "/var/folders/ch/nyzh10996mzbm4r4pj4m0qd00000gn/T/ipykernel_26370/3350284418.py:25: UserWarning: Geometry is in a geographic CRS. Results from 'area' are likely incorrect. Use 'GeoSeries.to_crs()' to re-project geometries to a projected CRS before this operation.\n",
      "\n",
      "  adata=adata[adata.obsm['polygons'].area>min_size,:]\n",
      "/var/folders/ch/nyzh10996mzbm4r4pj4m0qd00000gn/T/ipykernel_26370/3350284418.py:29: UserWarning: Geometry is in a geographic CRS. Results from 'area' are likely incorrect. Use 'GeoSeries.to_crs()' to re-project geometries to a projected CRS before this operation.\n",
      "\n",
      "  adata=adata[adata.obsm['polygons'].area<max_size,:]\n"
     ]
    }
   ],
   "source": [
    "# Filter\n",
    "adata, filtered = filter_on_size(adata, min_size = 200)"
   ]
  },
  {
   "attachments": {},
   "cell_type": "markdown",
   "metadata": {},
   "source": [
    "## Prepare for Napari"
   ]
  },
  {
   "cell_type": "code",
   "execution_count": 22,
   "metadata": {},
   "outputs": [],
   "source": [
    "# Function to select the representative polygons and add them as shape\n",
    "def prepare_napari_plot(adata, cutoff_shapes = 0.5):\n",
    "    temp                 = adata.obsm['polygons'].explode()\n",
    "    temp['percent_area'] = temp.area / adata.obsm['polygons'].area\n",
    "    temp                 = temp.sort_values(by = 'percent_area', ascending = False)\n",
    "    temp.index           = temp.index.droplevel(1)\n",
    "    temp                 = temp[~temp.index.duplicated(keep = 'first')]\n",
    "    temp                 = temp.reindex(adata.obs.index)\n",
    "\n",
    "    adata = adata[temp.percent_area > cutoff_shapes, :]\n",
    "    temp2 = temp[temp.percent_area > cutoff_shapes]\n",
    "    adata.obsm['napari_plot'] = temp2[['X','Y','geometry','percent_area']]\n",
    "\n",
    "    print('In total, '+str(len(temp)-len(temp2))+' shapes were filtered out because they were too split up.')\n",
    "    return adata "
   ]
  },
  {
   "cell_type": "code",
   "execution_count": 23,
   "metadata": {},
   "outputs": [
    {
     "name": "stderr",
     "output_type": "stream",
     "text": [
      "/var/folders/ch/nyzh10996mzbm4r4pj4m0qd00000gn/T/ipykernel_26370/3313942367.py:3: FutureWarning: Currently, index_parts defaults to True, but in the future, it will default to False to be consistent with Pandas. Use `index_parts=True` to keep the current behavior and True/False to silence the warning.\n",
      "  temp                 = adata.obsm['polygons'].explode()\n",
      "/var/folders/ch/nyzh10996mzbm4r4pj4m0qd00000gn/T/ipykernel_26370/3313942367.py:4: UserWarning: Geometry is in a geographic CRS. Results from 'area' are likely incorrect. Use 'GeoSeries.to_crs()' to re-project geometries to a projected CRS before this operation.\n",
      "\n",
      "  temp['percent_area'] = temp.area / adata.obsm['polygons'].area\n"
     ]
    },
    {
     "name": "stdout",
     "output_type": "stream",
     "text": [
      "In total, 7 shapes were filtered out because they were too split up.\n"
     ]
    }
   ],
   "source": [
    "adata = prepare_napari_plot(adata)"
   ]
  },
  {
   "attachments": {},
   "cell_type": "markdown",
   "metadata": {},
   "source": [
    "# Visualize in Napari"
   ]
  },
  {
   "attachments": {},
   "cell_type": "markdown",
   "metadata": {},
   "source": [
    "## Initialize Napari"
   ]
  },
  {
   "cell_type": "code",
   "execution_count": 24,
   "metadata": {},
   "outputs": [],
   "source": [
    "# Function to add a layer to napari\n",
    "def add_napari_layer(adata, column = None, name = None, celltype = None, colormap = 'inferno'):\n",
    "    \"\"\"If you want a subset, just take a subset of the anndata before adding this. Don't use the function to change color, only to add an extra layer.\"\"\"\n",
    "    if celltype: \n",
    "        adata=adata[adata.obs['maxScores']==celltype,:]\n",
    "        if not name:\n",
    "            name=celltype\n",
    "    coords_to_plot=[]\n",
    "    to_color=None\n",
    "    adata.obsm['napari_plot']=geopandas.GeoDataFrame(adata.obsm['napari_plot'],geometry=adata.obsm['napari_plot']['geometry'])\n",
    "    if column is not None:\n",
    "        if column + \"_colors\" in adata.uns:\n",
    "            color_dict=dict(zip(adata.obs[column].cat.categories.values,adata.uns[column + \"_colors\"]))\n",
    "            to_color=adata.obs[column].map(color_dict)\n",
    "            print('colors from adata used')\n",
    "    for i in adata.obsm['napari_plot'].geometry.exterior.simplify(tolerance=2):\n",
    "        coords_to_plot.append(np.array(i.coords)[:,[1,0]]) \n",
    "    Columns=dict(zip(adata.var.index.values,adata.X.T))\n",
    "    Columns.update(adata.obs.to_dict('list'))\n",
    "    if not name:\n",
    "        name=column\n",
    "    if name in viewer.layers:\n",
    "        viewer.layers[name].features=Columns\n",
    "        if to_color:\n",
    "            print('layer reused')\n",
    "            viewer.layers[name].face_color=to_color.values\n",
    "        if column in viewer.layers[name].features:\n",
    "            print('layer reused')\n",
    "            viewer.layers[name].face_color=column\n",
    "            viewer.layers[name].face_colormap =colormap\n",
    "    elif to_color is not None:\n",
    "        viewer.add_shapes(coords_to_plot,name=name,shape_type='polygon',face_color=to_color.values.astype(str),opacity=0.7,edge_width=3,edge_color='white',features=Columns)\n",
    "    elif column in Columns.keys():\n",
    "        viewer.add_shapes(coords_to_plot,name=name,shape_type='polygon',face_color=column,opacity=0.7,edge_width=3,edge_color='white',features=Columns,face_colormap=colormap)\n",
    "    elif column==None:\n",
    "        viewer.add_shapes(coords_to_plot,name=name,shape_type='polygon',face_color=colormap,opacity=0.7,edge_width=3,edge_color='white',features=Columns)"
   ]
  },
  {
   "cell_type": "code",
   "execution_count": 25,
   "metadata": {},
   "outputs": [
    {
     "name": "stderr",
     "output_type": "stream",
     "text": [
      "/Users/yujike/opt/anaconda3/envs/Pandas/lib/python3.8/site-packages/napari/_vispy/layers/image.py:259: UserWarning: data shape (26450, 26459) exceeds GL_MAX_TEXTURE_SIZE 16384 in at least one axis and will be downsampled. Rendering is currently in 2D mode.\n",
      "  warnings.warn(\n",
      "/Users/yujike/opt/anaconda3/envs/Pandas/lib/python3.8/site-packages/napari/_vispy/layers/image.py:259: UserWarning: data shape (26450, 26459) exceeds GL_MAX_TEXTURE_SIZE 16384 in at least one axis and will be downsampled. Rendering is currently in 2D mode.\n",
      "  warnings.warn(\n"
     ]
    },
    {
     "data": {
      "text/plain": [
       "<Image layer 'I' at 0x7fb0712b5070>"
      ]
     },
     "execution_count": 25,
     "metadata": {},
     "output_type": "execute_result"
    }
   ],
   "source": [
    "# Initialize napari with image\n",
    "I = adata.uns['spatial']['spatial_transcriptomics']['images']['hires']\n",
    "#viewer = napari.view_image(Id, rgb=False)\n",
    "viewer = napari.Viewer()\n",
    "max_contrast_limit = np.max(I)\n",
    "# max_contrast_limit = np.iinfo(img.dtype).max\n",
    "viewer.add_image(I, contrast_limits=[0, max_contrast_limit])  \n",
    "#viewer.add_shapes(coords_to_plot,name='DAPI',shape_type='polygon',face_color='blue',opacity=0.5,edge_width=3,edge_color='white')"
   ]
  },
  {
   "attachments": {},
   "cell_type": "markdown",
   "metadata": {},
   "source": [
    "## Add segments"
   ]
  },
  {
   "cell_type": "code",
   "execution_count": 26,
   "metadata": {},
   "outputs": [
    {
     "name": "stderr",
     "output_type": "stream",
     "text": [
      "/Users/yujike/opt/anaconda3/envs/Pandas/lib/python3.8/site-packages/napari/layers/utils/color_transformations.py:42: UserWarning: The provided face_color parameter contained illegal values, resetting all face_color values to white.\n",
      "  warnings.warn(\n"
     ]
    }
   ],
   "source": [
    "add_napari_layer(adata)"
   ]
  },
  {
   "cell_type": "code",
   "execution_count": 27,
   "metadata": {},
   "outputs": [],
   "source": [
    "add_napari_layer(adata, column = 'TraesCS3D03G1015700') # yes\n",
    "\n",
    "\n"
   ]
  },
  {
   "cell_type": "code",
   "execution_count": 50,
   "metadata": {},
   "outputs": [],
   "source": [
    "# how many genes in tae_2 cortex showed expected expression \n",
    "add_napari_layer(adata, column = 'TraesCS7B03G0820900') # yes\n",
    "add_napari_layer(adata, column = 'TraesCS2B03G1383800LC') # yes\n",
    "add_napari_layer(adata, column = 'TraesCS4D03G0728500') # no\n",
    "add_napari_layer(adata, column = 'TraesCS1D03G0534600') # yes\n",
    "add_napari_layer(adata, column = 'TraesCS1A03G0676300') # yes\n",
    "add_napari_layer(adata, column = 'TraesCS1D03G0534700') # no\n",
    "add_napari_layer(adata, column = 'TraesCS2A03G0988000') # no\n",
    "add_napari_layer(adata, column = 'TraesCS4B03G0814900') # yes\n",
    "add_napari_layer(adata, column = 'TraesCS3B03G1121400') # yes\n",
    "add_napari_layer(adata, column = 'TraesCS1B03G0768600') # yes\n",
    "add_napari_layer(adata, column = 'TraesCS1B03G0646400') # yes\n",
    "add_napari_layer(adata, column = 'TraesCS1A03G0817100') # no\n",
    "add_napari_layer(adata, column = 'TraesCS1A03G0554700') # yes\n",
    "add_napari_layer(adata, column = 'TraesCS2B03G1096500') # no\n",
    "add_napari_layer(adata, column = 'TraesCS3D03G0911000') # yes\n",
    "add_napari_layer(adata, column = 'TraesCS2D03G0925700') # yes\n",
    "add_napari_layer(adata, column = 'TraesCS4B03G0814800') # no\n",
    "add_napari_layer(adata, column = 'TraesCS3A03G0974500') # yes\n",
    "add_napari_layer(adata, column = 'TraesCS1D03G0787300') # yes\n",
    "add_napari_layer(adata, column = 'TraesCS1D03G0787400') # yes\n",
    "\n",
    "#  "
   ]
  },
  {
   "cell_type": "code",
   "execution_count": 60,
   "metadata": {},
   "outputs": [],
   "source": [
    "# how many genes in tae_3 meristems showed expected expression \n",
    "add_napari_layer(adata, column = 'TraesCS2B03G1047100') # yes\n",
    "add_napari_layer(adata, column = 'TraesCS1B03G1035400') # yes\n",
    "add_napari_layer(adata, column = 'TraesCS1A03G0723300') # yes\n",
    "add_napari_layer(adata, column = 'TraesCS6A03G0197200') # yes\n",
    "add_napari_layer(adata, column = 'TraesCS4B03G0567900') # yes\n",
    "add_napari_layer(adata, column = 'TraesCS3A03G0316900') # yes\n",
    "add_napari_layer(adata, column = 'TraesCS1D03G0080700') # yes\n",
    "add_napari_layer(adata, column = 'TraesCS1D03G0687000') # yes\n",
    "add_napari_layer(adata, column = 'TraesCS1D03G0852900') # yes\n",
    "add_napari_layer(adata, column = 'TraesCS1A03G0090800') # yes\n",
    "add_napari_layer(adata, column = 'TraesCS1D03G0080500') # yes\n",
    "add_napari_layer(adata, column = 'TraesCS2A03G0948500') # yes\n",
    "add_napari_layer(adata, column = 'TraesCS1B03G0109700') # yes\n",
    "add_napari_layer(adata, column = 'TraesCS1D03G0853100') # yes\n",
    "add_napari_layer(adata, column = 'TraesCS7D03G0261200') # yes\n",
    "add_napari_layer(adata, column = 'TraesCS1B03G0825800') # yes\n",
    "add_napari_layer(adata, column = 'TraesCS3D03G0761600') # yes\n",
    "add_napari_layer(adata, column = 'TraesCS6A03G0141200') # yes\n",
    "add_napari_layer(adata, column = 'TraesCS3D03G0773600') # yes\n",
    "add_napari_layer(adata, column = 'TraesCS1A03G0730400') # yes\n"
   ]
  },
  {
   "cell_type": "code",
   "execution_count": 52,
   "metadata": {},
   "outputs": [],
   "source": [
    "# how many genes in tae_4 provascular cells showed expected expression pattern\n",
    "add_napari_layer(adata, column = 'TraesCS5D03G0346300') # yes\n",
    "add_napari_layer(adata, column = 'TraesCS1B03G0622300') # no\n",
    "add_napari_layer(adata, column = 'TraesCS1B03G0050600') # yes\n",
    "add_napari_layer(adata, column = 'TraesCS6D03G0550100LC') # no\n",
    "add_napari_layer(adata, column = 'TraesCS3B03G0036500') # yes\n",
    "add_napari_layer(adata, column = 'TraesCS1A03G0532100') # no\n",
    "add_napari_layer(adata, column = 'TraesCS5B03G0678400LC') # no \n",
    "add_napari_layer(adata, column = 'TraesCS2B03G1307900') # no\n",
    "add_napari_layer(adata, column = 'TraesCS3D03G0132200') # no\n",
    "add_napari_layer(adata, column = 'TraesCS6D03G0573300') # no\n",
    "add_napari_layer(adata, column = 'TraesCS4D03G0562400') # no\n",
    "add_napari_layer(adata, column = 'TraesCS1B03G0053600') # yes\n",
    "add_napari_layer(adata, column = 'TraesCS2B03G0107600') # no\n",
    "add_napari_layer(adata, column = 'TraesCS7D03G1240300') # no\n",
    "add_napari_layer(adata, column = 'TraesCS2A03G0412800') # yes\n",
    "add_napari_layer(adata, column = 'TraesCS1B03G0051800') # yes\n",
    "add_napari_layer(adata, column = 'TraesCS7A03G0475200') # no\n",
    "add_napari_layer(adata, column = 'TraesCS6A03G0661700LC') # yes\n",
    "add_napari_layer(adata, column = 'TraesCS3D03G0013700') # yes\n",
    "add_napari_layer(adata, column = 'TraesCS3A03G0016400') # no\n"
   ]
  },
  {
   "cell_type": "code",
   "execution_count": 59,
   "metadata": {},
   "outputs": [],
   "source": [
    "# how many genes in tae_7 epidermis showed expected expression pattern\n",
    "add_napari_layer(adata, column = 'TraesCS2D03G0324500') # yes\n",
    "add_napari_layer(adata, column = 'TraesCS7A03G0992500LC') # no\n",
    "add_napari_layer(adata, column = 'TraesCS2D03G0324400') # yes\n",
    "add_napari_layer(adata, column = 'TraesCS2A03G0309200') # yes\n",
    "add_napari_layer(adata, column = 'TraesCS2B03G0426900') # yes\n",
    "add_napari_layer(adata, column = 'TraesCS2B03G0426800') # yes\n",
    "add_napari_layer(adata, column = 'TraesCS2A03G0309100LC') # yes\n",
    "add_napari_layer(adata, column = 'TraesCS7B03G1286700') # yes\n",
    "add_napari_layer(adata, column = 'TraesCS2B03G0426600LC') # yes\n",
    "add_napari_layer(adata, column = 'TraesCS5B03G1313300') # yes\n",
    "add_napari_layer(adata, column = 'TraesCS2B03G1540400') # yes\n",
    "add_napari_layer(adata, column = 'TraesCS6B03G0242600') # yes\n",
    "add_napari_layer(adata, column = 'TraesCS3D03G1015700') # yes\n",
    "add_napari_layer(adata, column = 'TraesCS4A03G0065400') # no\n",
    "add_napari_layer(adata, column = 'TraesCS1D03G0362900') # yes\n",
    "add_napari_layer(adata, column = 'TraesCS7B03G0829700LC') # yes\n",
    "add_napari_layer(adata, column = 'TraesCS5D03G1173000') # yes\n",
    "add_napari_layer(adata, column = 'TraesCS3A03G0103100') # yes\n",
    "add_napari_layer(adata, column = 'TraesCS7A03G0992200LC') # yes\n",
    "add_napari_layer(adata, column = 'TraesCS2B03G1534500') # yes\n"
   ]
  },
  {
   "cell_type": "code",
   "execution_count": 58,
   "metadata": {},
   "outputs": [],
   "source": [
    "# how many genes in tae_9 endodermis showed expected expression pattern \n",
    "add_napari_layer(adata, column = 'TraesCS3A03G0429700') # no\n",
    "add_napari_layer(adata, column = 'TraesCS7D03G0401600') # no\n",
    "add_napari_layer(adata, column = 'TraesCS7B03G0218800') # no\n",
    "add_napari_layer(adata, column = 'TraesCS2A03G0749000') # no\n",
    "add_napari_layer(adata, column = 'TraesCS3D03G0402600') # yes\n",
    "add_napari_layer(adata, column = 'TraesCS3B03G0898100') # no\n",
    "add_napari_layer(adata, column = 'TraesCS3B03G0508400') # no\n",
    "add_napari_layer(adata, column = 'TraesCS6D03G0764800') # no\n",
    "add_napari_layer(adata, column = 'TraesCS2D03G0692900') # no\n",
    "add_napari_layer(adata, column = 'TraesCS5A03G0962700') # no\n",
    "add_napari_layer(adata, column = 'TraesCS6A03G0889900') # no\n",
    "add_napari_layer(adata, column = 'TraesCS2B03G0423100') # no\n",
    "add_napari_layer(adata, column = 'TraesCS3D03G0720200') # yes\n",
    "add_napari_layer(adata, column = 'TraesCS1D03G0105400') # no\n",
    "add_napari_layer(adata, column = 'TraesCS6A03G0661900') # no\n",
    "add_napari_layer(adata, column = 'TraesCS5D03G0492700') # yes\n",
    "add_napari_layer(adata, column = 'TraesCS2D03G0321300') # yes\n",
    "add_napari_layer(adata, column = 'TraesCS5B03G0538700') # yes\n",
    "add_napari_layer(adata, column = 'TraesCS7A03G1365400') # no\n",
    "add_napari_layer(adata, column = 'TraesCS1B03G0907000') # no\n",
    "\n"
   ]
  },
  {
   "cell_type": "code",
   "execution_count": 57,
   "metadata": {},
   "outputs": [],
   "source": [
    "\n",
    "# how many genes in tae_10 xylem showed expected expression pattern\n",
    "\n",
    "add_napari_layer(adata, column = 'TraesCS5D03G0377000') # yes\n",
    "add_napari_layer(adata, column = 'TraesCS5A03G0388600') # yes\n",
    "add_napari_layer(adata, column = 'TraesCS5B03G0387000') # yes\n",
    "add_napari_layer(adata, column = 'TraesCS1D03G0049400') # no\n",
    "add_napari_layer(adata, column = 'TraesCS1A03G0062800') # yes\n",
    "add_napari_layer(adata, column = 'TraesCS2B03G0484900') # no\n",
    "add_napari_layer(adata, column = 'TraesCS7B03G0805100') # no\n",
    "add_napari_layer(adata, column = 'TraesCS3B03G1344800') # no\n",
    "add_napari_layer(adata, column = 'TraesCS6D03G0082600') # no\n",
    "add_napari_layer(adata, column = 'TraesCSU03G0020100') # no\n",
    "add_napari_layer(adata, column = 'TraesCS2A03G0730800') # no\n",
    "add_napari_layer(adata, column = 'TraesCS6D03G0654300') # no\n",
    "add_napari_layer(adata, column = 'TraesCS7A03G0969300') # no\n",
    "add_napari_layer(adata, column = 'TraesCS3B03G0012900') # no\n",
    "add_napari_layer(adata, column = 'TraesCS3D03G0008300') # no\n",
    "add_napari_layer(adata, column = 'TraesCS7A03G0446200') # no\n",
    "add_napari_layer(adata, column = 'TraesCS2B03G0806600') # no\n",
    "add_napari_layer(adata, column = 'TraesCS6A03G0080100') # no\n",
    "add_napari_layer(adata, column = 'TraesCSU03G0019900') # no\n",
    "add_napari_layer(adata, column = 'TraesCS5A03G0570800') # no\n",
    "\n"
   ]
  },
  {
   "cell_type": "code",
   "execution_count": 61,
   "metadata": {},
   "outputs": [],
   "source": [
    "# how many genes in tae_12 dividing cells showed expected expression pattern\n",
    "\n",
    "add_napari_layer(adata, column = 'TraesCS2D03G0803000') # yes\n",
    "add_napari_layer(adata, column = 'TraesCS3B03G0839200LC') # yes\n",
    "add_napari_layer(adata, column = 'TraesCS2A03G0863000') # yes\n",
    "add_napari_layer(adata, column = 'TraesCS2B03G0955500') # yes\n",
    "add_napari_layer(adata, column = 'TraesCS4D03G0742700') # yes\n",
    "add_napari_layer(adata, column = 'TraesCS3A03G0796600') # yes\n",
    "add_napari_layer(adata, column = 'TraesCS3B03G1202600') # yes\n",
    "add_napari_layer(adata, column = 'TraesCS3A03G0935100') # yes\n",
    "add_napari_layer(adata, column = 'TraesCS2D03G0129500') # yes\n",
    "add_napari_layer(adata, column = 'TraesCS1B03G0616100') # yes\n",
    "add_napari_layer(adata, column = 'TraesCS1A03G0526900') # yes\n",
    "add_napari_layer(adata, column = 'TraesCS4B03G0833500') # yes\n",
    "add_napari_layer(adata, column = 'TraesCS3B03G0918400') # yes\n",
    "add_napari_layer(adata, column = 'TraesCS3D03G0735900') # yes\n",
    "add_napari_layer(adata, column = 'TraesCS1D03G0508400') # yes\n",
    "add_napari_layer(adata, column = 'TraesCS7B03G1269700') # yes\n",
    "add_napari_layer(adata, column = 'TraesCS7D03G1262100') # yes\n",
    "add_napari_layer(adata, column = 'TraesCS2A03G0132400') # yes\n",
    "add_napari_layer(adata, column = 'TraesCS3D03G0969300') # yes\n",
    "add_napari_layer(adata, column = 'TraesCS7A03G1335600') # yes\n"
   ]
  },
  {
   "cell_type": "code",
   "execution_count": 62,
   "metadata": {},
   "outputs": [],
   "source": [
    "# how many genes in tae_13 phloem showed expected expression pattern\n",
    "\n",
    "add_napari_layer(adata, column = 'TraesCS2B03G0108200') # yes\n",
    "add_napari_layer(adata, column = 'TraesCS2D03G0068900') # yes\n",
    "add_napari_layer(adata, column = 'TraesCS3B03G0900500') # no\n",
    "add_napari_layer(adata, column = 'TraesCS2A03G0073400') # yes\n",
    "add_napari_layer(adata, column = 'TraesCS3D03G0721900') # no\n",
    "add_napari_layer(adata, column = 'TraesCS3A03G0782300') # no\n",
    "add_napari_layer(adata, column = 'TraesCS1D03G0884600') # no\n",
    "add_napari_layer(adata, column = 'TraesCS3D03G0599200') # no\n",
    "add_napari_layer(adata, column = 'TraesCS6A03G0666600') # no\n",
    "add_napari_layer(adata, column = 'TraesCS3A03G0654700') # no\n",
    "add_napari_layer(adata, column = 'TraesCS1D03G0605000') # no\n",
    "add_napari_layer(adata, column = 'TraesCS1B03G0733300') # no\n",
    "add_napari_layer(adata, column = 'TraesCS1A03G0647000') # no\n",
    "add_napari_layer(adata, column = 'TraesCS1A03G0906900') # no\n",
    "add_napari_layer(adata, column = 'TraesCS3B03G0742300') # no\n",
    "add_napari_layer(adata, column = 'TraesCS6A03G0202900') # yes\n",
    "add_napari_layer(adata, column = 'TraesCS4D03G0020800') # no\n",
    "add_napari_layer(adata, column = 'TraesCS7D03G0500500') # yes\n",
    "add_napari_layer(adata, column = 'TraesCS5D03G0557600') # no\n",
    "add_napari_layer(adata, column = 'TraesCS3B03G0486000') # no\n"
   ]
  },
  {
   "cell_type": "code",
   "execution_count": 63,
   "metadata": {},
   "outputs": [],
   "source": [
    "# how many genes in tae_14 root cap showed expected expression pattern\n",
    "\n",
    "add_napari_layer(adata, column = 'TraesCS7D03G0226600') #\n",
    "add_napari_layer(adata, column = 'TraesCS3D03G0697200') #\n",
    "add_napari_layer(adata, column = 'TraesCS2D03G0971100') #\n",
    "add_napari_layer(adata, column = 'TraesCS3D03G0382600') #\n",
    "add_napari_layer(adata, column = 'TraesCS2A03G1032300') #\n",
    "add_napari_layer(adata, column = 'TraesCS3B03G0864600') #\n",
    "add_napari_layer(adata, column = 'TraesCS1D03G0043400') #\n",
    "add_napari_layer(adata, column = 'TraesCS3D03G1163600') #\n",
    "add_napari_layer(adata, column = 'TraesCS3B03G1268400') #\n",
    "add_napari_layer(adata, column = 'TraesCS3D03G1163500') #\n",
    "add_napari_layer(adata, column = 'TraesCS3A03G0756500') #\n",
    "add_napari_layer(adata, column = 'TraesCS1A03G0053300') #\n",
    "add_napari_layer(adata, column = 'TraesCS3B03G1464600') #\n",
    "add_napari_layer(adata, column = 'TraesCS1B03G0058000') #\n",
    "add_napari_layer(adata, column = 'TraesCS3B03G1464500') #\n",
    "add_napari_layer(adata, column = 'TraesCS2B03G1153200') #\n",
    "add_napari_layer(adata, column = 'TraesCS2D03G0971700') #\n",
    "add_napari_layer(adata, column = 'TraesCS3A03G1224300') #\n",
    "add_napari_layer(adata, column = 'TraesCS2D03G0971800') #\n",
    "add_napari_layer(adata, column = 'TraesCS3D03G1163700') #\n"
   ]
  },
  {
   "cell_type": "code",
   "execution_count": 10,
   "metadata": {},
   "outputs": [
    {
     "name": "stderr",
     "output_type": "stream",
     "text": [
      "2024-06-12 20:20:17.390 python[1445:17999] +[CATransaction synchronize] called within transaction\n",
      "2024-06-12 20:20:17.528 python[1445:17999] +[CATransaction synchronize] called within transaction\n"
     ]
    }
   ],
   "source": [
    "# Phloem conserved marker\n",
    "add_napari_layer(adata, column = 'TraesCS7A03G0757500') #\n",
    "add_napari_layer(adata, column = 'TraesCS7D03G0728800') #\n",
    "add_napari_layer(adata, column = 'TraesCS7B03G0588000') #\n",
    "\n",
    "\n"
   ]
  },
  {
   "cell_type": "code",
   "execution_count": 36,
   "metadata": {},
   "outputs": [],
   "source": [
    "\n",
    "add_napari_layer(adata, column = 'TraesCS3D03G1031300') #\n",
    "\n"
   ]
  },
  {
   "cell_type": "code",
   "execution_count": 40,
   "metadata": {},
   "outputs": [
    {
     "name": "stderr",
     "output_type": "stream",
     "text": [
      "2024-06-14 13:32:36.129 python[1445:17999] +[CATransaction synchronize] called within transaction\n",
      "2024-06-14 13:32:36.262 python[1445:17999] +[CATransaction synchronize] called within transaction\n"
     ]
    }
   ],
   "source": [
    "add_napari_layer(adata, column = 'TraesCS1A03G0554700') #\n"
   ]
  },
  {
   "cell_type": "code",
   "execution_count": 39,
   "metadata": {},
   "outputs": [
    {
     "name": "stderr",
     "output_type": "stream",
     "text": [
      "2024-06-14 12:43:49.955 python[1445:17999] IMKClient Stall detected, *please Report* your user scenario attaching a spindump (or sysdiagnose) that captures the problem - (imkxpc_bundleIdentifierWithReply:) block performed very slowly (1.38 secs).\n"
     ]
    }
   ],
   "source": [
    "add_napari_layer(adata, column = 'TraesCS4D03G0434100') #\n",
    "add_napari_layer(adata, column = 'TraesCS4A03G0280400') #\n",
    "add_napari_layer(adata, column = 'TraesCS4B03G0486500') #\n",
    "\n"
   ]
  },
  {
   "cell_type": "code",
   "execution_count": 38,
   "metadata": {},
   "outputs": [],
   "source": [
    "\n",
    "add_napari_layer(adata, column = 'TraesCS4A03G0065400') #\n",
    "\n"
   ]
  },
  {
   "cell_type": "code",
   "execution_count": 33,
   "metadata": {},
   "outputs": [],
   "source": [
    "add_napari_layer(adata, column = 'TraesCS6B03G1186600') #\n"
   ]
  },
  {
   "cell_type": "code",
   "execution_count": 15,
   "metadata": {},
   "outputs": [],
   "source": [
    "\n",
    "add_napari_layer(adata, column = 'TraesCS4B03G0238600') #\n",
    "add_napari_layer(adata, column = 'TraesCS4D03G0201600') #\n",
    "\n",
    "\t\n",
    "\n",
    "\n",
    "\n"
   ]
  },
  {
   "cell_type": "code",
   "execution_count": 27,
   "metadata": {},
   "outputs": [],
   "source": [
    "#Figure 2 Epidermis\n",
    "add_napari_layer(adata, column = 'TraesCS2D03G0324400') #\n",
    "add_napari_layer(adata, column = 'TraesCS2D03G0324500') #"
   ]
  },
  {
   "cell_type": "code",
   "execution_count": 29,
   "metadata": {},
   "outputs": [
    {
     "name": "stderr",
     "output_type": "stream",
     "text": [
      "2024-06-11 21:11:19.992 python[4516:91078] +[CATransaction synchronize] called within transaction\n",
      "2024-06-11 21:11:20.142 python[4516:91078] +[CATransaction synchronize] called within transaction\n",
      "2024-06-11 21:15:14.948 python[4516:91078] +[CATransaction synchronize] called within transaction\n",
      "2024-06-11 21:15:15.106 python[4516:91078] +[CATransaction synchronize] called within transaction\n",
      "2024-06-11 21:15:19.340 python[4516:91078] +[CATransaction synchronize] called within transaction\n",
      "2024-06-11 21:15:21.098 python[4516:91078] +[CATransaction synchronize] called within transaction\n",
      "2024-06-11 21:22:17.683 python[4516:91078] +[CATransaction synchronize] called within transaction\n",
      "2024-06-11 21:22:17.803 python[4516:91078] +[CATransaction synchronize] called within transaction\n"
     ]
    }
   ],
   "source": [
    "#Figure 2 Cortex\n",
    "add_napari_layer(adata, column = 'TraesCS1D03G0787400') #\n",
    "add_napari_layer(adata, column = 'TraesCS3A03G0974500') #\n",
    "add_napari_layer(adata, column = 'TraesCS3D03G0911000') #\n",
    "add_napari_layer(adata, column = 'TraesCS1B03G0646400') #\n",
    "add_napari_layer(adata, column = 'TraesCS3B03G1121400') #\n",
    "add_napari_layer(adata, column = 'TraesCS3B03G1120300') #\n",
    "add_napari_layer(adata, column = 'TraesCS2B03G1501600') #\n",
    "add_napari_layer(adata, column = 'TraesCS2B03G1383800LC') #\n",
    "\n",
    "\n",
    "\n",
    "\n",
    "\n",
    "\n",
    "\n",
    "\n",
    "\n",
    "\n"
   ]
  },
  {
   "cell_type": "code",
   "execution_count": 30,
   "metadata": {},
   "outputs": [
    {
     "name": "stderr",
     "output_type": "stream",
     "text": [
      "2024-06-11 21:49:54.000 python[4516:91078] +[CATransaction synchronize] called within transaction\n",
      "2024-06-11 21:49:54.109 python[4516:91078] +[CATransaction synchronize] called within transaction\n"
     ]
    }
   ],
   "source": [
    "#Figure 2 Xylem\n",
    "add_napari_layer(adata, column = 'TraesCS5D03G0377000') #\n",
    "add_napari_layer(adata, column = 'TraesCS5A03G0388600') #"
   ]
  },
  {
   "cell_type": "code",
   "execution_count": 31,
   "metadata": {},
   "outputs": [
    {
     "name": "stderr",
     "output_type": "stream",
     "text": [
      "2024-06-12 08:46:20.407 python[4516:91078] +[CATransaction synchronize] called within transaction\n",
      "2024-06-12 08:46:21.061 python[4516:91078] +[CATransaction synchronize] called within transaction\n",
      "2024-06-12 08:46:24.873 python[4516:91078] +[CATransaction synchronize] called within transaction\n",
      "2024-06-12 08:52:36.902 python[4516:91078] +[CATransaction synchronize] called within transaction\n",
      "2024-06-12 08:53:03.672 python[4516:91078] +[CATransaction synchronize] called within transaction\n",
      "2024-06-12 08:53:03.831 python[4516:91078] +[CATransaction synchronize] called within transaction\n"
     ]
    }
   ],
   "source": [
    "#Figure 2 Phloem\n",
    "add_napari_layer(adata, column = 'TraesCS2D03G0068900') #\n",
    "add_napari_layer(adata, column = 'TraesCS6A03G0202900') #\n",
    "add_napari_layer(adata, column = 'TraesCS5A03G0536500') #\n",
    "add_napari_layer(adata, column = 'TraesCS5A03G1176600LC') #\n"
   ]
  },
  {
   "cell_type": "code",
   "execution_count": 33,
   "metadata": {},
   "outputs": [
    {
     "name": "stderr",
     "output_type": "stream",
     "text": [
      "2024-06-12 10:12:41.068 python[4516:91078] +[CATransaction synchronize] called within transaction\n",
      "2024-06-12 10:12:41.204 python[4516:91078] +[CATransaction synchronize] called within transaction\n"
     ]
    }
   ],
   "source": [
    "#Figure 2 Provascular cells\n",
    "\n",
    "add_napari_layer(adata, column = 'TraesCS5A03G0363500') #\n",
    "add_napari_layer(adata, column = 'TraesCS5B03G0678500LC') #\n",
    "add_napari_layer(adata, column = 'TraesCS5B03G0359300') #\n",
    "add_napari_layer(adata, column = 'TraesCS5D03G0346300') #\n",
    "add_napari_layer(adata, column = 'TraesCS1B03G0622300') #\n",
    "add_napari_layer(adata, column = 'TraesCS1B03G0050600') #\n",
    "add_napari_layer(adata, column = 'TraesCS6D03G0550100LC') #\n",
    "add_napari_layer(adata, column = 'TraesCS3B03G0036500') #\n",
    "add_napari_layer(adata, column = 'TraesCS1A03G0532100') #\n",
    "add_napari_layer(adata, column = 'TraesCS5B03G0678400LC') #\n",
    "add_napari_layer(adata, column = 'TraesCS2B03G1307900') #\n",
    "add_napari_layer(adata, column = 'TraesCS3D03G0132200') #\n",
    "add_napari_layer(adata, column = 'TraesCS6D03G0573300') #\n",
    "add_napari_layer(adata, column = 'TraesCS4D03G0562400') #\n",
    "add_napari_layer(adata, column = 'TraesCS1B03G0053600') #\n",
    "add_napari_layer(adata, column = 'TraesCS2B03G0107600') #\n",
    "add_napari_layer(adata, column = 'TraesCS7D03G1240300') #\n",
    "add_napari_layer(adata, column = 'TraesCS2A03G0412800') #\n",
    "add_napari_layer(adata, column = 'TraesCS1B03G0051800') #\n",
    "add_napari_layer(adata, column = 'TraesCS7A03G0475200') #\n",
    "add_napari_layer(adata, column = 'TraesCS6A03G0661700LC') #\n",
    "add_napari_layer(adata, column = 'TraesCS3D03G0013700') #\n",
    "add_napari_layer(adata, column = 'TraesCS3A03G0016400') #\n",
    "\n",
    "\n",
    "\n",
    "\n",
    "\n",
    "\n",
    "\n",
    "\n",
    "\n",
    "\n",
    "\n"
   ]
  },
  {
   "cell_type": "code",
   "execution_count": 34,
   "metadata": {},
   "outputs": [
    {
     "name": "stderr",
     "output_type": "stream",
     "text": [
      "2024-06-12 10:33:50.050 python[4516:91078] +[CATransaction synchronize] called within transaction\n",
      "2024-06-12 10:33:50.161 python[4516:91078] +[CATransaction synchronize] called within transaction\n"
     ]
    }
   ],
   "source": [
    "# Figure 2 Dividing cell\n",
    "add_napari_layer(adata, column = 'TraesCS2D03G0803000') #\n",
    "add_napari_layer(adata, column = 'TraesCS3B03G0839200LC') #\n",
    "add_napari_layer(adata, column = 'TraesCS2A03G0863000') #\n",
    "add_napari_layer(adata, column = 'TraesCS2B03G0955500') #\n",
    "add_napari_layer(adata, column = 'TraesCS4D03G0742700') #\n",
    "add_napari_layer(adata, column = 'TraesCS3A03G0796600') #\n"
   ]
  },
  {
   "cell_type": "code",
   "execution_count": 12,
   "metadata": {},
   "outputs": [
    {
     "name": "stderr",
     "output_type": "stream",
     "text": [
      "2024-06-09 15:49:29.798 python[4516:91078] +[CATransaction synchronize] called within transaction\n",
      "2024-06-09 15:49:29.930 python[4516:91078] +[CATransaction synchronize] called within transaction\n",
      "2024-06-09 15:49:37.257 python[4516:91078] -[NSNull length]: unrecognized selector sent to instance 0x7ff84a39cb40\n",
      "2024-06-09 15:49:37.259 python[4516:91078] -[NSNull length]: unrecognized selector sent to instance 0x7ff84a39cb40\n",
      "2024-06-09 15:49:39.870 python[4516:91078] -[NSNull length]: unrecognized selector sent to instance 0x7ff84a39cb40\n",
      "2024-06-09 15:49:39.912 python[4516:91078] -[NSNull length]: unrecognized selector sent to instance 0x7ff84a39cb40\n",
      "2024-06-09 15:50:11.060 python[4516:91078] +[CATransaction synchronize] called within transaction\n",
      "2024-06-09 15:50:25.428 python[4516:91078] +[CATransaction synchronize] called within transaction\n",
      "2024-06-09 15:51:03.326 python[4516:91078] +[CATransaction synchronize] called within transaction\n",
      "2024-06-09 15:51:03.409 python[4516:91078] +[CATransaction synchronize] called within transaction\n",
      "2024-06-09 15:51:45.868 python[4516:91078] +[CATransaction synchronize] called within transaction\n",
      "2024-06-09 15:51:45.968 python[4516:91078] +[CATransaction synchronize] called within transaction\n"
     ]
    }
   ],
   "source": [
    "#Conserved cortex marker\n",
    "\n",
    "add_napari_layer(adata, column = 'TraesCS1A03G0554700') #\n",
    "add_napari_layer(adata, column = 'TraesCS1B03G0646400') #\n",
    "add_napari_layer(adata, column = 'TraesCS1D03G0534600') #\n",
    "\n",
    "\n"
   ]
  },
  {
   "cell_type": "code",
   "execution_count": 15,
   "metadata": {},
   "outputs": [
    {
     "name": "stderr",
     "output_type": "stream",
     "text": [
      "2024-06-09 16:44:40.575 python[4516:91078] +[CATransaction synchronize] called within transaction\n",
      "2024-06-09 16:44:40.707 python[4516:91078] +[CATransaction synchronize] called within transaction\n"
     ]
    }
   ],
   "source": [
    "#Conserved xylem marker XCP1\n",
    "add_napari_layer(adata, column = 'TraesCS5D03G0377000') #\n",
    "add_napari_layer(adata, column = 'TraesCS5A03G0388600') #\n",
    "\n"
   ]
  },
  {
   "cell_type": "code",
   "execution_count": 35,
   "metadata": {},
   "outputs": [],
   "source": [
    "# Conserved root cap marker\n",
    "add_napari_layer(adata, column = 'TraesCS2D03G0347500') #\n",
    "\n"
   ]
  },
  {
   "cell_type": "code",
   "execution_count": 36,
   "metadata": {},
   "outputs": [],
   "source": [
    "add_napari_layer(adata, column = 'TraesCS2D03G1303900') #\n",
    "add_napari_layer(adata, column = 'TraesCS7D03G1072800LC') #\n",
    "add_napari_layer(adata, column = 'TraesCS3A03G1088200') #\n",
    "add_napari_layer(adata, column = 'TraesCS7D03G1077100') #\n",
    "add_napari_layer(adata, column = 'TraesCS3B03G0004000') #\n",
    "add_napari_layer(adata, column = 'TraesCS1A03G0045800') #\n",
    "add_napari_layer(adata, column = 'TraesCS3D03G0000500') #\n",
    "add_napari_layer(adata, column = 'TraesCS7A03G1125900') #\n",
    "add_napari_layer(adata, column = 'TraesCS3B03G1278300') #\n",
    "add_napari_layer(adata, column = 'TraesCS7D03G0949000') #\n",
    "add_napari_layer(adata, column = 'TraesCS3B03G0134900') #\n",
    "add_napari_layer(adata, column = 'TraesCS3A03G1099100') #\n",
    "add_napari_layer(adata, column = 'TraesCS7D03G0969900LC') #\n",
    "add_napari_layer(adata, column = 'TraesCS4A03G0828700') #\n",
    "add_napari_layer(adata, column = 'TraesCS4B03G0721400') #\n",
    "add_napari_layer(adata, column = 'TraesCS7A03G0992300LC') #\n",
    "add_napari_layer(adata, column = 'TraesCS2B03G1534500') #\n",
    "add_napari_layer(adata, column = 'TraesCS7A03G0992200LC') #\n",
    "add_napari_layer(adata, column = 'TraesCS3A03G0103100') #\n",
    "add_napari_layer(adata, column = 'TraesCS5D03G1173000') #\n",
    "add_napari_layer(adata, column = 'TraesCS7B03G0829700LC') #\n",
    "add_napari_layer(adata, column = 'TraesCS1D03G0362900') #\n",
    "add_napari_layer(adata, column = 'TraesCS4A03G0065400') #\n",
    "add_napari_layer(adata, column = 'TraesCS3D03G1015700') #\n",
    "add_napari_layer(adata, column = 'TraesCS6B03G0242600') #\n",
    "add_napari_layer(adata, column = 'TraesCS2B03G1540400') #\n",
    "add_napari_layer(adata, column = 'TraesCS5B03G1313300') #\n",
    "add_napari_layer(adata, column = 'TraesCS2B03G0426600LC') #\n",
    "add_napari_layer(adata, column = 'TraesCS7B03G1286700') #\n",
    "add_napari_layer(adata, column = 'TraesCS2A03G0309100LC') #\n",
    "add_napari_layer(adata, column = 'TraesCS2D03G0324500') #\n",
    "add_napari_layer(adata, column = 'TraesCS7A03G0992500LC') #\n",
    "add_napari_layer(adata, column = 'TraesCS2D03G0324400') #\n",
    "add_napari_layer(adata, column = 'TraesCS2A03G0309200') #\n",
    "add_napari_layer(adata, column = 'TraesCS2B03G0426900') #\n",
    "add_napari_layer(adata, column = 'TraesCS2B03G0426800') #\n"
   ]
  },
  {
   "cell_type": "code",
   "execution_count": 50,
   "metadata": {},
   "outputs": [],
   "source": [
    "add_napari_layer(adata, column = 'TraesCS4A03G0828900') #\n",
    "add_napari_layer(adata, column = 'TraesCS5A03G0269400') #\n",
    "add_napari_layer(adata, column = 'TraesCS2B03G1537200') #\n",
    "add_napari_layer(adata, column = 'TraesCS2D03G0800100') #\n",
    "add_napari_layer(adata, column = 'TraesCS4B03G0964100') #\n",
    "add_napari_layer(adata, column = 'TraesCS6A03G0972800') #\n",
    "add_napari_layer(adata, column = 'TraesCS6B03G1189900') #\n",
    "add_napari_layer(adata, column = 'TraesCS7B03G0593200') #\n",
    "add_napari_layer(adata, column = 'TraesCS7A03G0779600') #\n",
    "add_napari_layer(adata, column = 'TraesCS4D03G0621900') #\n",
    "add_napari_layer(adata, column = 'TraesCS2A03G0733400') #\n",
    "add_napari_layer(adata, column = 'TraesCS5D03G0300400') #\n",
    "add_napari_layer(adata, column = 'TraesCS6B03G1074200') #\n",
    "add_napari_layer(adata, column = 'TraesCS2B03G1540200') #\n",
    "add_napari_layer(adata, column = 'TraesCS4A03G0828800') #\n",
    "add_napari_layer(adata, column = 'TraesCS5B03G0297500') #\n",
    "add_napari_layer(adata, column = 'TraesCSU03G0024000') #\n",
    "add_napari_layer(adata, column = 'TraesCS2D03G1268900') #\n",
    "add_napari_layer(adata, column = 'TraesCS7B03G0854100') #\n",
    "add_napari_layer(adata, column = 'TraesCS6A03G0030300LC') #\n",
    "add_napari_layer(adata, column = 'TraesCS2B03G0105800') #\n",
    "add_napari_layer(adata, column = 'TraesCS5D03G1172900') #\n",
    "add_napari_layer(adata, column = 'TraesCS3D03G0655100') #\n",
    "add_napari_layer(adata, column = 'TraesCS3D03G1031300') #\n",
    "add_napari_layer(adata, column = 'TraesCS6D03G0852900') #\n",
    "add_napari_layer(adata, column = 'TraesCS6A03G0972100') #\n",
    "add_napari_layer(adata, column = 'TraesCS6D03G0767200') #\n",
    "add_napari_layer(adata, column = 'TraesCS5B03G1313200') #\n",
    "add_napari_layer(adata, column = 'TraesCS3D03G0089800LC') #\n",
    "add_napari_layer(adata, column = 'TraesCS7B03G0980100') #\n",
    "add_napari_layer(adata, column = 'TraesCS2D03G0798800') #\n",
    "add_napari_layer(adata, column = 'TraesCS7D03G0949100') #\n",
    "add_napari_layer(adata, column = 'TraesCS3A03G0711700') #\n",
    "add_napari_layer(adata, column = 'TraesCS1A03G0810500') #\n",
    "add_napari_layer(adata, column = 'TraesCS1A03G0810300') #\n",
    "add_napari_layer(adata, column = 'TraesCS7B03G1286600') #\n",
    "add_napari_layer(adata, column = 'TraesCS2B03G0051900') #\n"
   ]
  },
  {
   "cell_type": "code",
   "execution_count": 38,
   "metadata": {},
   "outputs": [],
   "source": [
    "\n",
    "#epidermis marker search\n",
    "add_napari_layer(adata, column = 'TraesCS3B03G1515400') #\n",
    "add_napari_layer(adata, column = 'TraesCS3D03G1192800') #\n",
    "add_napari_layer(adata, column = 'TraesCS3B03G1008200') #\n",
    "add_napari_layer(adata, column = 'TraesCS3B03G0439100') #\n",
    "add_napari_layer(adata, column = 'TraesCS3A03G0365400') #\n",
    "\n",
    "\n",
    "\n",
    "\n",
    "\n",
    "\n"
   ]
  },
  {
   "cell_type": "code",
   "execution_count": 39,
   "metadata": {},
   "outputs": [],
   "source": [
    "add_napari_layer(adata, column = 'TraesCS5D03G0906800') #\n",
    "add_napari_layer(adata, column = 'TraesCS5B03G1000500') #\n",
    "add_napari_layer(adata, column = 'TraesCS5A03G0951600') #\n",
    "add_napari_layer(adata, column = 'TraesCS2D03G1242700') #\n",
    "add_napari_layer(adata, column = 'TraesCS2A03G1281500') #\n",
    "add_napari_layer(adata, column = 'TraesCS2B03G1468700') #\n",
    "add_napari_layer(adata, column = 'TraesCS2B03G0914600') #\n",
    "add_napari_layer(adata, column = 'TraesCS2D03G0769800') #\n"
   ]
  },
  {
   "cell_type": "code",
   "execution_count": 40,
   "metadata": {},
   "outputs": [],
   "source": [
    "add_napari_layer(adata, column = 'TraesCS2D03G0321600') #\n",
    "add_napari_layer(adata, column = 'TraesCS2A03G0303700') #\n",
    "add_napari_layer(adata, column = 'TraesCS2B03G0423400') #\n",
    "add_napari_layer(adata, column = 'TraesCS6B03G1184300') #\n",
    "add_napari_layer(adata, column = 'TraesCS6D03G0848200') #\n",
    "add_napari_layer(adata, column = 'TraesCS6B03G1184200') #\n",
    "add_napari_layer(adata, column = 'TraesCS6A03G0967400') #\n",
    "add_napari_layer(adata, column = 'TraesCS6A03G0967600') #\n",
    "add_napari_layer(adata, column = 'TraesCS7B03G0299800') #\n",
    "add_napari_layer(adata, column = 'TraesCS7D03G0468700') #\n",
    "add_napari_layer(adata, column = 'TraesCS7A03G0484900') #\n"
   ]
  },
  {
   "cell_type": "code",
   "execution_count": 41,
   "metadata": {},
   "outputs": [],
   "source": [
    "\t\n",
    "add_napari_layer(adata, column = 'TraesCS1B03G1166600') #\n",
    "add_napari_layer(adata, column = 'TraesCS1D03G0951700') #\n",
    "\n"
   ]
  },
  {
   "cell_type": "code",
   "execution_count": 42,
   "metadata": {},
   "outputs": [],
   "source": [
    "\t\n",
    "add_napari_layer(adata, column = 'TraesCS5D03G0654200') #\n",
    "add_napari_layer(adata, column = 'TraesCS5B03G0722200') #\n",
    "add_napari_layer(adata, column = 'TraesCS5A03G0684700') #\n"
   ]
  },
  {
   "cell_type": "code",
   "execution_count": 43,
   "metadata": {},
   "outputs": [],
   "source": [
    "\n",
    "\n",
    "add_napari_layer(adata, column = 'TraesCS4B03G0721800') #\n",
    "add_napari_layer(adata, column = 'TraesCS4A03G0065100') #\n"
   ]
  },
  {
   "cell_type": "code",
   "execution_count": 44,
   "metadata": {},
   "outputs": [],
   "source": [
    "\n",
    "add_napari_layer(adata, column = 'TraesCS2A03G0858200') #\n"
   ]
  },
  {
   "cell_type": "code",
   "execution_count": 49,
   "metadata": {},
   "outputs": [
    {
     "name": "stderr",
     "output_type": "stream",
     "text": [
      "2024-06-12 16:34:09.248 python[4516:91078] +[CATransaction synchronize] called within transaction\n",
      "2024-06-12 16:34:09.408 python[4516:91078] +[CATransaction synchronize] called within transaction\n"
     ]
    }
   ],
   "source": [
    "\n",
    "add_napari_layer(adata, column = 'TraesCS4D03G0217900') #\n"
   ]
  },
  {
   "cell_type": "code",
   "execution_count": 46,
   "metadata": {},
   "outputs": [],
   "source": [
    "\n",
    "\n",
    "add_napari_layer(adata, column = 'TraesCS3B03G1274600') #\n"
   ]
  },
  {
   "cell_type": "code",
   "execution_count": 47,
   "metadata": {},
   "outputs": [],
   "source": [
    "\n",
    "add_napari_layer(adata, column = 'TraesCS3B03G1405100') #\n"
   ]
  },
  {
   "cell_type": "code",
   "execution_count": 48,
   "metadata": {},
   "outputs": [],
   "source": [
    "\n",
    "add_napari_layer(adata, column = 'TraesCS2B03G1341500') #\n"
   ]
  },
  {
   "cell_type": "code",
   "execution_count": 16,
   "metadata": {},
   "outputs": [
    {
     "name": "stderr",
     "output_type": "stream",
     "text": [
      "2024-06-12 23:14:22.763 python[1445:17999] +[CATransaction synchronize] called within transaction\n",
      "2024-06-12 23:14:22.910 python[1445:17999] +[CATransaction synchronize] called within transaction\n"
     ]
    }
   ],
   "source": [
    "#try endodermis\n",
    "\n",
    "add_napari_layer(adata, column = 'TraesCS6B03G0815900') #\n",
    "add_napari_layer(adata, column = 'TraesCS3D03G0402300') #\n",
    "add_napari_layer(adata, column = 'TraesCS3A03G0779600') #\n",
    "add_napari_layer(adata, column = 'TraesCS1B03G0155900') #\n",
    "add_napari_layer(adata, column = 'TraesCS6B03G1068700') #\n",
    "add_napari_layer(adata, column = 'TraesCS5D03G0917200') #\n",
    "add_napari_layer(adata, column = 'TraesCS1A03G0789700') #\n",
    "add_napari_layer(adata, column = 'TraesCS2B03G0825500') #\n",
    "add_napari_layer(adata, column = 'TraesCS1B03G0906900') #\n",
    "add_napari_layer(adata, column = 'TraesCS1A03G0117100') #\n",
    "add_napari_layer(adata, column = 'TraesCS6D03G0894200') #\n",
    "add_napari_layer(adata, column = 'TraesCS7B03G1305600') #\n",
    "add_napari_layer(adata, column = 'TraesCS7A03G0413900') #\n",
    "add_napari_layer(adata, column = 'TraesCS7D03G1292400') #\n",
    "add_napari_layer(adata, column = 'TraesCS5A03G0526900') #\n",
    "add_napari_layer(adata, column = 'TraesCS5B03G1013000') #\n",
    "add_napari_layer(adata, column = 'TraesCS2A03G0303400') #\n",
    "add_napari_layer(adata, column = 'TraesCS3B03G0508500') #\n",
    "add_napari_layer(adata, column = 'TraesCS1D03G0995400') #\n",
    "add_napari_layer(adata, column = 'TraesCS3D03G0402800') #\n",
    "add_napari_layer(adata, column = 'TraesCS1B03G0907000') #\n",
    "add_napari_layer(adata, column = 'TraesCS7A03G1365400') #\n",
    "add_napari_layer(adata, column = 'TraesCS5B03G0538700') #\n",
    "add_napari_layer(adata, column = 'TraesCS2D03G0321300') #\n",
    "add_napari_layer(adata, column = 'TraesCS5D03G0492700') #\n",
    "add_napari_layer(adata, column = 'TraesCS6A03G0661900') #\n",
    "add_napari_layer(adata, column = 'TraesCS1D03G0105400') #\n",
    "add_napari_layer(adata, column = 'TraesCS3D03G0720200') #\n",
    "add_napari_layer(adata, column = 'TraesCS2B03G0423100') #\n",
    "add_napari_layer(adata, column = 'TraesCS6A03G0889900') #\n",
    "add_napari_layer(adata, column = 'TraesCS5A03G0962700') #\n",
    "add_napari_layer(adata, column = 'TraesCS2D03G0692900') #\n",
    "add_napari_layer(adata, column = 'TraesCS6D03G0764800') #\n",
    "add_napari_layer(adata, column = 'TraesCS3B03G0508400') #\n",
    "add_napari_layer(adata, column = 'TraesCS3B03G0898100') #\n",
    "add_napari_layer(adata, column = 'TraesCS3D03G0402600') #\n",
    "add_napari_layer(adata, column = 'TraesCS2A03G0749000') #\n",
    "add_napari_layer(adata, column = 'TraesCS3A03G0429700') #\n",
    "add_napari_layer(adata, column = 'TraesCS7D03G0401600') #\n",
    "add_napari_layer(adata, column = 'TraesCS7B03G0218800') #\n"
   ]
  },
  {
   "cell_type": "code",
   "execution_count": 17,
   "metadata": {},
   "outputs": [
    {
     "name": "stderr",
     "output_type": "stream",
     "text": [
      "2024-06-12 23:40:20.278 python[1445:17999] +[CATransaction synchronize] called within transaction\n",
      "2024-06-12 23:40:20.382 python[1445:17999] +[CATransaction synchronize] called within transaction\n"
     ]
    }
   ],
   "source": [
    "# Meristems\n",
    "add_napari_layer(adata, column = 'TraesCS2B03G1047100') #\n",
    "add_napari_layer(adata, column = 'TraesCS1B03G1035400') #\n",
    "add_napari_layer(adata, column = 'TraesCS1A03G0723300') #\n",
    "add_napari_layer(adata, column = 'TraesCS6A03G0197200') #\n",
    "add_napari_layer(adata, column = 'TraesCS4B03G0567900') #\n"
   ]
  },
  {
   "cell_type": "code",
   "execution_count": null,
   "metadata": {},
   "outputs": [],
   "source": [
    "# try epidermis cluster 1\n",
    "add_napari_layer(adata, column = 'TraesCS6D03G0086400') #\n",
    "add_napari_layer(adata, column = 'TraesCS6A03G0967400') #\n",
    "add_napari_layer(adata, column = 'TraesCS4A03G1056600LC') #\n",
    "add_napari_layer(adata, column = 'TraesCS5B03G0722200') #\n",
    "add_napari_layer(adata, column = 'TraesCS6D03G0848200') #\n",
    "add_napari_layer(adata, column = 'TraesCS6B03G1184300') #\n",
    "add_napari_layer(adata, column = 'TraesCS4D03G0642700') #\n",
    "add_napari_layer(adata, column = 'TraesCS2D03G0321600') #\n",
    "add_napari_layer(adata, column = 'TraesCS4B03G0941900') #\n",
    "add_napari_layer(adata, column = 'TraesCS4D03G0642600') #\n",
    "add_napari_layer(adata, column = 'TraesCS6B03G1184200') #\n",
    "add_napari_layer(adata, column = 'TraesCS3D03G1197600') #\n",
    "add_napari_layer(adata, column = 'TraesCS4A03G0065100') #\n",
    "add_napari_layer(adata, column = 'TraesCS4B03G0721600') #\n",
    "add_napari_layer(adata, column = 'TraesCS4A03G0065200') #\n",
    "add_napari_layer(adata, column = 'TraesCS2B03G0423400') #\n",
    "add_napari_layer(adata, column = 'TraesCS6A03G0967600') #\n",
    "add_napari_layer(adata, column = 'TraesCS1B03G0651500') #\n",
    "add_napari_layer(adata, column = 'TraesCS3A03G0754700LC') #\n",
    "add_napari_layer(adata, column = 'TraesCS3B03G0861400') #\n",
    "add_napari_layer(adata, column = 'TraesCS4B03G0721800') #\n"
   ]
  },
  {
   "cell_type": "code",
   "execution_count": 26,
   "metadata": {},
   "outputs": [],
   "source": [
    "\n",
    "\n",
    "add_napari_layer(adata, column = 'TraesCS1D03G0787400') #\n"
   ]
  },
  {
   "cell_type": "code",
   "execution_count": 22,
   "metadata": {},
   "outputs": [
    {
     "name": "stdout",
     "output_type": "stream",
     "text": [
      "layer reused\n"
     ]
    },
    {
     "name": "stderr",
     "output_type": "stream",
     "text": [
      "2024-06-10 10:07:14.839 python[4516:91078] +[CATransaction synchronize] called within transaction\n",
      "2024-06-10 10:07:15.024 python[4516:91078] +[CATransaction synchronize] called within transaction\n"
     ]
    }
   ],
   "source": [
    "#Monocot-specific  Conserved cortext marker across the 4 species\n",
    "add_napari_layer(adata, column = 'TraesCS7B03G0675100') #\n",
    "\n",
    "add_napari_layer(adata, column = 'TraesCS3A03G0974500') #\n",
    "\n"
   ]
  },
  {
   "cell_type": "code",
   "execution_count": 24,
   "metadata": {},
   "outputs": [],
   "source": [
    "add_napari_layer(adata, column = 'TraesCS6B03G1184300') #\n"
   ]
  },
  {
   "cell_type": "code",
   "execution_count": 25,
   "metadata": {},
   "outputs": [],
   "source": [
    "add_napari_layer(adata, column = 'TraesCS5A03G0363500') #\n"
   ]
  },
  {
   "cell_type": "code",
   "execution_count": 20,
   "metadata": {},
   "outputs": [
    {
     "name": "stderr",
     "output_type": "stream",
     "text": [
      "2024-06-09 21:43:01.642 python[4516:91078] +[CATransaction synchronize] called within transaction\n",
      "2024-06-09 21:43:01.738 python[4516:91078] +[CATransaction synchronize] called within transaction\n"
     ]
    }
   ],
   "source": [
    "#Conserved epidermis marker\n",
    "add_napari_layer(adata, column = 'TraesCS3A03G0635100') #\n",
    "\n",
    "\n"
   ]
  },
  {
   "cell_type": "code",
   "execution_count": 17,
   "metadata": {},
   "outputs": [],
   "source": [
    "# unique to monocot clade\n",
    "\n",
    "add_napari_layer(adata, column = 'TraesCS7B03G0675100') #\n"
   ]
  },
  {
   "cell_type": "code",
   "execution_count": 19,
   "metadata": {},
   "outputs": [],
   "source": [
    "#Conserved Phloem marker\n",
    "\n",
    "\n",
    "add_napari_layer(adata, column = 'TraesCS3B03G0001000') #\n",
    "\n"
   ]
  },
  {
   "cell_type": "code",
   "execution_count": 14,
   "metadata": {},
   "outputs": [],
   "source": [
    "\n",
    "\n",
    "add_napari_layer(adata, column = 'TraesCS4D03G0434100') #\n"
   ]
  },
  {
   "cell_type": "code",
   "execution_count": 10,
   "metadata": {},
   "outputs": [],
   "source": [
    "# For cluster 0\n",
    "add_napari_layer(adata, column = 'TraesCS5B03G1052800') #\n",
    "add_napari_layer(adata, column = 'TraesCS1B03G0069700') #\n",
    "add_napari_layer(adata, column = 'TraesCS2B03G1501600') #\n",
    "add_napari_layer(adata, column = 'TraesCS5A03G0948700') #\n",
    "add_napari_layer(adata, column = 'TraesCS5A03G1006700') #\n"
   ]
  },
  {
   "cell_type": "code",
   "execution_count": 11,
   "metadata": {},
   "outputs": [],
   "source": [
    "# For cluster 1\n",
    "\n",
    "add_napari_layer(adata, column = 'TraesCS3A03G0754700LC') #\n",
    "add_napari_layer(adata, column = 'TraesCS3B03G0861400') #\n",
    "add_napari_layer(adata, column = 'TraesCS4B03G0721800') #\n",
    "add_napari_layer(adata, column = 'TraesCS1B03G0651500') #\n",
    "add_napari_layer(adata, column = 'TraesCS6A03G0967600') #\n",
    "\n",
    "\n",
    "\n"
   ]
  },
  {
   "cell_type": "code",
   "execution_count": 18,
   "metadata": {},
   "outputs": [
    {
     "name": "stderr",
     "output_type": "stream",
     "text": [
      "2024-05-28 14:52:37.023 python[91569:11853444] +[CATransaction synchronize] called within transaction\n",
      "2024-05-28 14:52:37.173 python[91569:11853444] +[CATransaction synchronize] called within transaction\n"
     ]
    }
   ],
   "source": [
    "# For cluster 3 meristems\n",
    "\n",
    "add_napari_layer(adata, column = 'TraesCS2B03G1047100') #\n",
    "add_napari_layer(adata, column = 'TraesCS1B03G1035400') #\n",
    "add_napari_layer(adata, column = 'TraesCS1A03G0723300') #\n",
    "add_napari_layer(adata, column = 'TraesCS6A03G0197200') #\n",
    "add_napari_layer(adata, column = 'TraesCS4B03G0567900') #\n",
    "\n",
    "\n",
    "\n",
    "\n",
    "\n",
    "\n"
   ]
  },
  {
   "cell_type": "code",
   "execution_count": 13,
   "metadata": {},
   "outputs": [],
   "source": [
    "# For cluster 4 provascular cells\n",
    "\n",
    "\n",
    "add_napari_layer(adata, column = 'TraesCS3A03G0016400') #\n",
    "add_napari_layer(adata, column = 'TraesCS3D03G0013700') #\n",
    "add_napari_layer(adata, column = 'TraesCS6A03G0661700LC') #\n",
    "add_napari_layer(adata, column = 'TraesCS7A03G0475200') #\n",
    "add_napari_layer(adata, column = 'TraesCS1B03G0051800') #"
   ]
  },
  {
   "cell_type": "code",
   "execution_count": 14,
   "metadata": {},
   "outputs": [],
   "source": [
    "# For cluster 5 Unknown\n",
    "\n",
    "\n",
    "\n",
    "add_napari_layer(adata, column = 'TraesCS3B03G0310800') #\n",
    "add_napari_layer(adata, column = 'TraesCS3D03G0239000') #\n",
    "add_napari_layer(adata, column = 'TraesCS4D03G0546300') #\n",
    "add_napari_layer(adata, column = 'TraesCS7D03G0517200') #\n",
    "add_napari_layer(adata, column = 'TraesCS3D03G0079700') #\n"
   ]
  },
  {
   "cell_type": "code",
   "execution_count": 20,
   "metadata": {},
   "outputs": [],
   "source": [
    "#For cluster 6 Phloem\n",
    "\n",
    "\n",
    "add_napari_layer(adata, column = 'TraesCS7A03G0757500') #\n",
    "add_napari_layer(adata, column = 'TraesCS3D03G1070900') #\n",
    "add_napari_layer(adata, column = 'TraesCS5B03G0138900') #\n",
    "add_napari_layer(adata, column = 'TraesCS4B03G0262700') #\n",
    "add_napari_layer(adata, column = 'TraesCS7D03G0728800') #\n",
    "\n",
    "\n",
    "TraesCS6B03G0419800\n",
    "TraesCS5B03G1121200\n",
    "TraesCS4D03G0223700\n",
    "TraesCS5D03G0150000LC\n",
    "TraesCS5B03G0547100\n",
    "TraesCS7B03G0588000\n",
    "TraesCS3B03G0250100\n",
    "TraesCS1D03G1000900\n",
    "TraesCS5A03G0127300\n",
    "TraesCS1B03G1236400\n",
    "TraesCS4B03G0238600\n",
    "TraesCS3A03G0715100\n",
    "TraesCS1B03G0187300\n",
    "TraesCS3B03G0820500\n",
    "TraesCS3B03G1323800\n",
    "TraesCS2A03G1202600\n",
    "TraesCS3B03G1338300\n",
    "TraesCS5D03G1199300\n",
    "TraesCS3A03G1137900\n",
    "TraesCS4A03G0535400\n",
    "TraesCS4A03G0786200\n",
    "TraesCS2D03G1158000\n",
    "TraesCS4D03G0691800\n",
    "\n",
    "\n",
    "\n",
    "\n",
    "\n"
   ]
  },
  {
   "cell_type": "code",
   "execution_count": 21,
   "metadata": {},
   "outputs": [],
   "source": [
    "#For cluster 6 Phloem\n",
    "add_napari_layer(adata, column = 'TraesCS6B03G0419800') #\n",
    "add_napari_layer(adata, column = 'TraesCS5B03G1121200') #\n",
    "add_napari_layer(adata, column = 'TraesCS4D03G0223700') #\n",
    "add_napari_layer(adata, column = 'TraesCS5D03G0150000LC') #\n",
    "add_napari_layer(adata, column = 'TraesCS5B03G0547100') #\n",
    "add_napari_layer(adata, column = 'TraesCS7B03G0588000') #\n",
    "add_napari_layer(adata, column = 'TraesCS3B03G0250100') #\n",
    "add_napari_layer(adata, column = 'TraesCS1D03G1000900') #\n",
    "add_napari_layer(adata, column = 'TraesCS5A03G0127300') #\n",
    "add_napari_layer(adata, column = 'TraesCS1B03G1236400') #\n",
    "add_napari_layer(adata, column = 'TraesCS4B03G0238600') #\n",
    "add_napari_layer(adata, column = 'TraesCS3A03G0715100') #\n",
    "add_napari_layer(adata, column = 'TraesCS1B03G0187300') #\n",
    "add_napari_layer(adata, column = 'TraesCS3B03G0820500') #\n",
    "add_napari_layer(adata, column = 'TraesCS3B03G1323800') #\n",
    "add_napari_layer(adata, column = 'TraesCS2A03G1202600') #\n",
    "add_napari_layer(adata, column = 'TraesCS3B03G1338300') #\n",
    "add_napari_layer(adata, column = 'TraesCS5D03G1199300') #\n",
    "add_napari_layer(adata, column = 'TraesCS3A03G1137900') #\n",
    "add_napari_layer(adata, column = 'TraesCS4A03G0535400') #\n",
    "add_napari_layer(adata, column = 'TraesCS4A03G0786200') #\n",
    "add_napari_layer(adata, column = 'TraesCS2D03G1158000') #\n",
    "add_napari_layer(adata, column = 'TraesCS4D03G0691800') #\n"
   ]
  },
  {
   "cell_type": "code",
   "execution_count": 22,
   "metadata": {},
   "outputs": [],
   "source": [
    "\n",
    "#For cluster 6 Phloem\n",
    "add_napari_layer(adata, column = 'TraesCS3A03G1146800') #\n",
    "add_napari_layer(adata, column = 'TraesCS1D03G0200100LC') #\n",
    "add_napari_layer(adata, column = 'TraesCS6A03G0325300') #\n",
    "add_napari_layer(adata, column = 'TraesCS3D03G0186500LC') #\n",
    "add_napari_layer(adata, column = 'TraesCS4D03G0201600') #\n",
    "add_napari_layer(adata, column = 'TraesCS7B03G0811900') #\n",
    "add_napari_layer(adata, column = 'TraesCS5B03G1359600') #\n",
    "add_napari_layer(adata, column = 'TraesCS5A03G0535600') #\n",
    "add_napari_layer(adata, column = 'TraesCS1A03G0207300') #\n",
    "add_napari_layer(adata, column = 'TraesCS7A03G1169600') #\n",
    "add_napari_layer(adata, column = 'TraesCS2D03G0941600') #\n",
    "add_napari_layer(adata, column = 'TraesCS7A03G0856200') #\n",
    "add_napari_layer(adata, column = 'TraesCS3D03G1058700') #\n",
    "add_napari_layer(adata, column = 'TraesCS4D03G0264900LC') #\n",
    "add_napari_layer(adata, column = 'TraesCS2B03G1372800') #\n"
   ]
  },
  {
   "cell_type": "code",
   "execution_count": 17,
   "metadata": {},
   "outputs": [
    {
     "name": "stderr",
     "output_type": "stream",
     "text": [
      "/Users/yujike/opt/anaconda3/envs/Pandas/lib/python3.8/site-packages/napari/layers/shapes/_shapes_utils.py:709: RuntimeWarning: overflow encountered in square\n",
      "  miter_lengths_squared = (miters**2).sum(axis=1)\n"
     ]
    }
   ],
   "source": [
    "#For cluster 11\n",
    "add_napari_layer(adata, column = 'TraesCS5B03G1379500') #\n",
    "add_napari_layer(adata, column = 'TraesCS5D03G1233700') #\n",
    "add_napari_layer(adata, column = 'TraesCS3A03G0744700') #\n",
    "add_napari_layer(adata, column = 'TraesCS2B03G0856800') #\n",
    "add_napari_layer(adata, column = 'TraesCS2D03G0715400') #\n",
    "add_napari_layer(adata, column = 'TraesCS2A03G0775400') #\n",
    "add_napari_layer(adata, column = 'TraesCS7B03G0003800') #\n",
    "\n",
    "\n",
    "\n",
    "\n",
    "\n",
    "\n",
    "\n",
    "\n",
    "\n",
    "\n"
   ]
  },
  {
   "cell_type": "code",
   "execution_count": 19,
   "metadata": {},
   "outputs": [
    {
     "name": "stderr",
     "output_type": "stream",
     "text": [
      "2024-05-28 14:59:50.528 python[91569:11853444] +[CATransaction synchronize] called within transaction\n",
      "2024-05-28 14:59:50.644 python[91569:11853444] +[CATransaction synchronize] called within transaction\n",
      "2024-05-28 15:01:38.431 python[91569:11853444] +[CATransaction synchronize] called within transaction\n",
      "2024-05-28 15:01:38.559 python[91569:11853444] +[CATransaction synchronize] called within transaction\n",
      "2024-05-28 15:01:46.739 python[91569:11853444] +[CATransaction synchronize] called within transaction\n",
      "2024-05-28 15:01:48.355 python[91569:11853444] +[CATransaction synchronize] called within transaction\n"
     ]
    }
   ],
   "source": [
    "# For cluster 12 Dividing cell\n",
    "\n",
    "add_napari_layer(adata, column = 'TraesCS2D03G0803000') #\n",
    "add_napari_layer(adata, column = 'TraesCS3B03G0839200LC') #\n",
    "add_napari_layer(adata, column = 'TraesCS2A03G0863000') #\n",
    "add_napari_layer(adata, column = 'TraesCS2B03G0955500') #\n",
    "add_napari_layer(adata, column = 'TraesCS4D03G0742700') #\n",
    "add_napari_layer(adata, column = 'TraesCS3A03G0796600') #\n",
    "\n",
    "\n",
    "\n",
    "\n",
    "\n",
    "\n",
    "\n",
    "\n"
   ]
  },
  {
   "cell_type": "code",
   "execution_count": 11,
   "metadata": {},
   "outputs": [],
   "source": [
    "#For supplemental figure 11\n",
    "add_napari_layer(adata, column = 'TraesCS5D03G0654200') #\n",
    "add_napari_layer(adata, column = 'TraesCS5B03G0722200') #\n",
    "add_napari_layer(adata, column = 'TraesCS5A03G0684700') #\n"
   ]
  },
  {
   "cell_type": "code",
   "execution_count": 11,
   "metadata": {},
   "outputs": [
    {
     "name": "stderr",
     "output_type": "stream",
     "text": [
      "2024-05-03 13:27:50.750 python[29934:3481336] +[CATransaction synchronize] called within transaction\n",
      "2024-05-03 13:27:50.914 python[29934:3481336] +[CATransaction synchronize] called within transaction\n",
      "2024-05-03 13:28:47.661 python[29934:3481336] +[CATransaction synchronize] called within transaction\n",
      "2024-05-03 13:28:47.771 python[29934:3481336] +[CATransaction synchronize] called within transaction\n",
      "2024-05-03 13:30:40.197 python[29934:3481336] +[CATransaction synchronize] called within transaction\n",
      "2024-05-03 13:30:40.312 python[29934:3481336] +[CATransaction synchronize] called within transaction\n",
      "2024-05-03 13:30:59.068 python[29934:3481336] +[CATransaction synchronize] called within transaction\n",
      "2024-05-03 13:30:59.185 python[29934:3481336] +[CATransaction synchronize] called within transaction\n"
     ]
    }
   ],
   "source": [
    "#For supplemental figure \n",
    "\n",
    "\n",
    "add_napari_layer(adata, column = 'TraesCS1D03G0787400') #\n",
    "add_napari_layer(adata, column = 'TraesCS3A03G0974500') #\n",
    "add_napari_layer(adata, column = 'TraesCS3D03G0911000') #\n",
    "add_napari_layer(adata, column = 'TraesCS3B03G1121400') #\n",
    "add_napari_layer(adata, column = 'TraesCS3B03G1120300') #\n",
    "add_napari_layer(adata, column = 'TraesCS2B03G1501600') #\n",
    "add_napari_layer(adata, column = 'TraesCS2B03G1383800LC') #\n",
    "add_napari_layer(adata, column = 'TraesCS1B03G0646400') #\n",
    "\n",
    "\n"
   ]
  },
  {
   "cell_type": "code",
   "execution_count": 33,
   "metadata": {},
   "outputs": [],
   "source": [
    "add_napari_layer(adata, column = 'TraesCS1A03G0402200') #\n",
    "add_napari_layer(adata, column = 'TraesCS1A03G0590400') #\n",
    "add_napari_layer(adata, column = 'TraesCS1B03G0263100') #\n",
    "add_napari_layer(adata, column = 'TraesCS1B03G0493300') #\n",
    "add_napari_layer(adata, column = 'TraesCS1B03G0573100') #\n",
    "add_napari_layer(adata, column = 'TraesCS1B03G0651800') #\n",
    "add_napari_layer(adata, column = 'TraesCS1D03G0186800') #\n",
    "add_napari_layer(adata, column = 'TraesCS1D03G0865900') #\n",
    "add_napari_layer(adata, column = 'TraesCS2A03G0305200') #\n",
    "add_napari_layer(adata, column = 'TraesCS2A03G0821300') #\n",
    "add_napari_layer(adata, column = 'TraesCS2A03G0945900') #\n",
    "add_napari_layer(adata, column = 'TraesCS2A03G0963600') #\n",
    "add_napari_layer(adata, column = 'TraesCS2A03G0991200') #\n",
    "add_napari_layer(adata, column = 'TraesCS2A03G1162200') #\n",
    "add_napari_layer(adata, column = 'TraesCS2A03G1305300') #\n",
    "add_napari_layer(adata, column = 'TraesCS2B03G0907700') #\n",
    "add_napari_layer(adata, column = 'TraesCS2B03G0914600') #\n",
    "add_napari_layer(adata, column = 'TraesCS2B03G1000500') #\n",
    "add_napari_layer(adata, column = 'TraesCS2B03G1100500') #\n",
    "add_napari_layer(adata, column = 'TraesCS2D03G0322900') #\n",
    "add_napari_layer(adata, column = 'TraesCS2D03G0769800') #\n",
    "add_napari_layer(adata, column = 'TraesCS2D03G0804100') #\n",
    "add_napari_layer(adata, column = 'TraesCS2D03G0850700') #\n",
    "add_napari_layer(adata, column = 'TraesCS2D03G1175000') #\n",
    "add_napari_layer(adata, column = 'TraesCS2D03G1190900') #\n",
    "add_napari_layer(adata, column = 'TraesCS3A03G0017400') #\n",
    "add_napari_layer(adata, column = 'TraesCS3B03G0018300') #\n",
    "add_napari_layer(adata, column = 'TraesCS3B03G0391800') #\n",
    "add_napari_layer(adata, column = 'TraesCS3B03G0731700') #\n",
    "add_napari_layer(adata, column = 'TraesCS3B03G0885500') #\n",
    "add_napari_layer(adata, column = 'TraesCS3B03G1344800') #\n",
    "add_napari_layer(adata, column = 'TraesCS3B03G1461300') #\n",
    "add_napari_layer(adata, column = 'TraesCS3D03G0332500') #\n",
    "add_napari_layer(adata, column = 'TraesCS3D03G0712500') #\n",
    "add_napari_layer(adata, column = 'TraesCS4A03G0280400') #\n",
    "add_napari_layer(adata, column = 'TraesCS4B03G0112400') #\n",
    "add_napari_layer(adata, column = 'TraesCS4D03G0095600') #\n",
    "add_napari_layer(adata, column = 'TraesCS4D03G0434100') #\n",
    "add_napari_layer(adata, column = 'TraesCS4D03G0679400') #\n",
    "add_napari_layer(adata, column = 'TraesCS5A03G0417300') #\n",
    "add_napari_layer(adata, column = 'TraesCS5A03G0951600') #\n",
    "add_napari_layer(adata, column = 'TraesCS5A03G1035600') #\n",
    "add_napari_layer(adata, column = 'TraesCS5A03G1145500') #\n",
    "add_napari_layer(adata, column = 'TraesCS5D03G0383900') #\n",
    "add_napari_layer(adata, column = 'TraesCS5D03G1079100') #\n",
    "add_napari_layer(adata, column = 'TraesCS6A03G0353200') #\n",
    "add_napari_layer(adata, column = 'TraesCS6D03G0765000') #\n",
    "add_napari_layer(adata, column = 'TraesCS7A03G0045400') #\n",
    "add_napari_layer(adata, column = 'TraesCS7A03G0446200') #\n",
    "add_napari_layer(adata, column = 'TraesCS7A03G0475600') #\n",
    "add_napari_layer(adata, column = 'TraesCS7D03G0992000') #\n",
    "\n",
    "\n"
   ]
  },
  {
   "cell_type": "code",
   "execution_count": 20,
   "metadata": {},
   "outputs": [
    {
     "name": "stdout",
     "output_type": "stream",
     "text": [
      "layer reused\n",
      "layer reused\n",
      "layer reused\n",
      "layer reused\n"
     ]
    }
   ],
   "source": [
    "# For Rahul\n",
    "add_napari_layer(adata, column = 'TraesCS1D03G0941600') # \n",
    "add_napari_layer(adata, column = 'TraesCS2D03G0850400') # \n",
    "add_napari_layer(adata, column = 'TraesCS5A03G1145500') # \n",
    "add_napari_layer(adata, column = 'TraesCS5D03G1079100') # \n",
    "add_napari_layer(adata, column = 'TraesCS2B03G1000500') # \n",
    "add_napari_layer(adata, column = 'TraesCS3B03G0903600') # \n",
    "add_napari_layer(adata, column = 'TraesCS7A03G0475600') # \n",
    "add_napari_layer(adata, column = 'TraesCS2D03G0769800') # \n",
    "add_napari_layer(adata, column = 'TraesCS3D03G0712500') # \n",
    "\n",
    "\n",
    "\n",
    "\n",
    "\n",
    "\n"
   ]
  },
  {
   "cell_type": "code",
   "execution_count": 21,
   "metadata": {},
   "outputs": [],
   "source": [
    "add_napari_layer(adata, column='TraesCS4B03G0883700')"
   ]
  },
  {
   "cell_type": "code",
   "execution_count": 16,
   "metadata": {},
   "outputs": [
    {
     "name": "stdout",
     "output_type": "stream",
     "text": [
      "layer reused\n",
      "layer reused\n"
     ]
    }
   ],
   "source": [
    "# Epidermis Top 2\n",
    "add_napari_layer(adata, column = 'TraesCS2D03G0324500') # \n",
    "add_napari_layer(adata, column = 'TraesCS2D03G0324400') # \n",
    "\n"
   ]
  },
  {
   "cell_type": "code",
   "execution_count": 10,
   "metadata": {},
   "outputs": [
    {
     "name": "stderr",
     "output_type": "stream",
     "text": [
      "2024-05-03 12:44:13.876 python[29934:3481336] +[CATransaction synchronize] called within transaction\n",
      "2024-05-03 12:44:14.439 python[29934:3481336] +[CATransaction synchronize] called within transaction\n"
     ]
    }
   ],
   "source": [
    "# Phloem Top 20\n",
    "add_napari_layer(adata, column = 'TraesCS2B03G0108200') #\n",
    "add_napari_layer(adata, column = 'TraesCS2D03G0068900') #\n",
    "add_napari_layer(adata, column = 'TraesCS3B03G0900500') #\n",
    "add_napari_layer(adata, column = 'TraesCS2A03G0073400') #\n",
    "add_napari_layer(adata, column = 'TraesCS3D03G0721900') #\n",
    "add_napari_layer(adata, column = 'TraesCS3A03G0782300') #\n",
    "add_napari_layer(adata, column = 'TraesCS1D03G0884600') #\n",
    "add_napari_layer(adata, column = 'TraesCS3D03G0599200') #\n",
    "add_napari_layer(adata, column = 'TraesCS6A03G0666600') #\n",
    "add_napari_layer(adata, column = 'TraesCS3A03G0654700') #\n",
    "add_napari_layer(adata, column = 'TraesCS1D03G0605000') #\n",
    "add_napari_layer(adata, column = 'TraesCS1B03G0733300') #\n",
    "add_napari_layer(adata, column = 'TraesCS1A03G0647000') #\n",
    "add_napari_layer(adata, column = 'TraesCS1A03G0906900') #\n",
    "add_napari_layer(adata, column = 'TraesCS3B03G0742300') #\n",
    "add_napari_layer(adata, column = 'TraesCS6A03G0202900') #\n",
    "add_napari_layer(adata, column = 'TraesCS4D03G0020800') #\n",
    "add_napari_layer(adata, column = 'TraesCS7D03G0500500') #\n",
    "add_napari_layer(adata, column = 'TraesCS5D03G0557600') #\n",
    "add_napari_layer(adata, column = 'TraesCS3B03G0486000') #"
   ]
  },
  {
   "cell_type": "code",
   "execution_count": 13,
   "metadata": {},
   "outputs": [],
   "source": [
    "# Phloem Top 40\n",
    "add_napari_layer(adata, column = 'TraesCS6B03G0810000') #\n",
    "add_napari_layer(adata, column = 'TraesCS5A03G0536500') #\n",
    "add_napari_layer(adata, column = 'TraesCS6B03G0398800') #\n",
    "add_napari_layer(adata, column = 'TraesCS6A03G0306800') #\n",
    "add_napari_layer(adata, column = 'TraesCS4D03G0760800') #\n",
    "add_napari_layer(adata, column = 'TraesCS7B03G0335800') #\n",
    "add_napari_layer(adata, column = 'TraesCS4B03G0030200') #\n",
    "add_napari_layer(adata, column = 'TraesCS6B03G0270900') #\n",
    "add_napari_layer(adata, column = 'TraesCS3A03G1157200') #\n",
    "add_napari_layer(adata, column = 'TraesCS5A03G0819000') #\n",
    "add_napari_layer(adata, column = 'TraesCS3B03G1380200') #\n",
    "add_napari_layer(adata, column = 'TraesCS4A03G0754700') #\n",
    "add_napari_layer(adata, column = 'TraesCS3B03G0494600') #\n",
    "add_napari_layer(adata, column = 'TraesCS4B03G0725300') #\n",
    "add_napari_layer(adata, column = 'TraesCS3A03G0407400') #\n",
    "add_napari_layer(adata, column = 'TraesCS6B03G0419400') #\n",
    "add_napari_layer(adata, column = 'TraesCS1D03G0349000') #\n",
    "add_napari_layer(adata, column = 'TraesCS3A03G0709800') #\n",
    "add_napari_layer(adata, column = 'TraesCS3D03G0382200') #\n",
    "add_napari_layer(adata, column = 'TraesCS4D03G0091800') #\n",
    "\n"
   ]
  },
  {
   "cell_type": "code",
   "execution_count": 14,
   "metadata": {},
   "outputs": [
    {
     "name": "stderr",
     "output_type": "stream",
     "text": [
      "/Users/yujike/opt/anaconda3/envs/Pandas/lib/python3.8/site-packages/napari/_vispy/layers/image.py:259: UserWarning: data shape (26450, 26459) exceeds GL_MAX_TEXTURE_SIZE 16384 in at least one axis and will be downsampled. Rendering is currently in 2D mode.\n",
      "  warnings.warn(\n",
      "/Users/yujike/opt/anaconda3/envs/Pandas/lib/python3.8/site-packages/napari/_vispy/layers/image.py:259: UserWarning: data shape (26450, 26459) exceeds GL_MAX_TEXTURE_SIZE 16384 in at least one axis and will be downsampled. Rendering is currently in 2D mode.\n",
      "  warnings.warn(\n",
      "/Users/yujike/opt/anaconda3/envs/Pandas/lib/python3.8/site-packages/napari/_vispy/layers/image.py:259: UserWarning: data shape (26450, 26459) exceeds GL_MAX_TEXTURE_SIZE 16384 in at least one axis and will be downsampled. Rendering is currently in 2D mode.\n",
      "  warnings.warn(\n",
      "/Users/yujike/opt/anaconda3/envs/Pandas/lib/python3.8/site-packages/napari/_vispy/layers/image.py:259: UserWarning: data shape (26450, 26459) exceeds GL_MAX_TEXTURE_SIZE 16384 in at least one axis and will be downsampled. Rendering is currently in 2D mode.\n",
      "  warnings.warn(\n"
     ]
    }
   ],
   "source": [
    "# Phloem  Top 50\n",
    "add_napari_layer(adata, column = 'TraesCS3D03G1105300') #\n",
    "add_napari_layer(adata, column = 'TraesCS1A03G0542800') #\n",
    "add_napari_layer(adata, column = 'TraesCS3A03G0390900') #\n",
    "add_napari_layer(adata, column = 'TraesCS1B03G0715800LC') #\n",
    "add_napari_layer(adata, column = 'TraesCS1D03G0587800') #\n",
    "add_napari_layer(adata, column = 'TraesCS4A03G0687000') #\n",
    "add_napari_layer(adata, column = 'TraesCS6D03G0279900') #\n",
    "add_napari_layer(adata, column = 'TraesCS1A03G0361700') #\n",
    "add_napari_layer(adata, column = 'TraesCS1B03G0450900') #\n",
    "add_napari_layer(adata, column = 'TraesCS4B03G0108300') #\n",
    "add_napari_layer(adata, column = 'TraesCS1A03G0626900') #\n",
    "add_napari_layer(adata, column = 'TraesCS5B03G0548000') #\n",
    "add_napari_layer(adata, column = 'TraesCS5A03G1176600LC') #\n",
    "add_napari_layer(adata, column = 'TraesCS7B03G0047600') #\n",
    "add_napari_layer(adata, column = 'TraesCS2D03G0137900') #\n",
    "add_napari_layer(adata, column = 'TraesCS4A03G0321300') #\n",
    "add_napari_layer(adata, column = 'TraesCS5D03G0143700') #\n",
    "add_napari_layer(adata, column = 'TraesCS2A03G0138900') #\n",
    "\n",
    "\n",
    "\n"
   ]
  },
  {
   "attachments": {},
   "cell_type": "markdown",
   "metadata": {},
   "source": [
    "## Add gene laryers"
   ]
  },
  {
   "cell_type": "code",
   "execution_count": 40,
   "metadata": {},
   "outputs": [
    {
     "name": "stdout",
     "output_type": "stream",
     "text": [
      "layer reused\n"
     ]
    }
   ],
   "source": [
    "# cluster0  epidermis\n",
    "add_napari_layer(adata, column = 'TraesCS7B03G0854100')  # uncharacterized protein LOC119341924\n",
    "add_napari_layer(adata, column = 'TraesCS5D03G1173000')  # glycine-rich cell wall structural protein 2-like\n",
    "add_napari_layer(adata, column = 'TraesCS7D03G1077100')  # agglutinin isolectin 3-like\n",
    "add_napari_layer(adata, column = 'TraesCS6B03G0004100')  # N/A\n",
    "add_napari_layer(adata, column = 'TraesCS5D03G1172900')  # putative glycine-rich cell wall structural protein 1\n",
    "add_napari_layer(adata, column = 'TraesCS5B03G0722200')  # auxin-induced in root cultures protein 12-like\n",
    "add_napari_layer(adata, column = 'TraesCS4A03G1056600LC') # N/A\n",
    "add_napari_layer(adata, column = 'TraesCS3D03G0089800LC') # uncharacterized protein LOC119355594\n",
    "add_napari_layer(adata, column = 'TraesCS5D03G0654200')  # N/A\n",
    "add_napari_layer(adata, column = 'TraesCS2D03G1268900')  # auxin-induced in root cultures protein 12-like\n",
    "add_napari_layer(adata, column = 'TraesCS3A03G0754700LC') # 4-hydroxy-7-methoxy-3-oxo-3,4-dihydro-2H-1,4-benzoxazin-2-yl glucoside beta-D-glucosidase 1b, chloroplastic\n",
    "add_napari_layer(adata, column = 'TraesCS6A03G0967600')  # N/A\n",
    "add_napari_layer(adata, column = 'TraesCS2A03G0038300')  # germin-like protein 1-1\n",
    "add_napari_layer(adata, column = 'TraesCS2D03G0039600')  # probable apyrase 3\n",
    "add_napari_layer(adata, column = 'TraesCS2A03G0858200')  \n",
    "add_napari_layer(adata, column = 'TraesCS3B03G1405100')  \n",
    "add_napari_layer(adata, column = 'TraesCS7D03G0620600')  \n",
    "add_napari_layer(adata, column = 'TraesCS2D03G0324500')  \n",
    "add_napari_layer(adata, column = 'TraesCS1B03G1040000')  \n",
    "add_napari_layer(adata, column = 'TraesCS7B03G0854100')  \n",
    "\n",
    "\n",
    "\n",
    "\n",
    "\n",
    "\n",
    "\n",
    "\n",
    "\n",
    "\n"
   ]
  },
  {
   "cell_type": "code",
   "execution_count": 41,
   "metadata": {},
   "outputs": [
    {
     "name": "stderr",
     "output_type": "stream",
     "text": [
      "/Users/yujike/opt/anaconda3/envs/Pandas/lib/python3.8/site-packages/napari/_vispy/layers/image.py:259: UserWarning: data shape (26450, 26459) exceeds GL_MAX_TEXTURE_SIZE 16384 in at least one axis and will be downsampled. Rendering is currently in 2D mode.\n",
      "  warnings.warn(\n",
      "/Users/yujike/opt/anaconda3/envs/Pandas/lib/python3.8/site-packages/napari/_vispy/layers/image.py:259: UserWarning: data shape (26450, 26459) exceeds GL_MAX_TEXTURE_SIZE 16384 in at least one axis and will be downsampled. Rendering is currently in 2D mode.\n",
      "  warnings.warn(\n"
     ]
    }
   ],
   "source": [
    "# cluster 1  provascular cells\n",
    "add_napari_layer(adata, column = 'TraesCS3A03G0016400')  # WALLS ARE THIN 1-like\n",
    "add_napari_layer(adata, column = 'TraesCS1B03G0051800')  # Bowman-Birk type trypsin inhibitor-like\n",
    "add_napari_layer(adata, column = 'TraesCS3B03G0036500')  # WALLS ARE THIN 1-like\n",
    "add_napari_layer(adata, column = 'TraesCS3D03G0013700')  # WALLS ARE THIN 1-like\n",
    "add_napari_layer(adata, column = 'TraesCS1B03G0053600')  # Bowman-Birk type trypsin inhibitor-like\n",
    "add_napari_layer(adata, column = 'TraesCS5B03G0678400LC')  # N/A\n",
    "add_napari_layer(adata, column = 'TraesCS2A03G0412800') # mavicyanin-like\n",
    "add_napari_layer(adata, column = 'TraesCS3B03G0017200') # WALLS ARE THIN 1-like\n",
    "add_napari_layer(adata, column = 'TraesCS2B03G0107600')  # uncharacterized protein C594.04c-like\n",
    "add_napari_layer(adata, column = 'TraesCS6A03G0661700LC')  # N/A\n",
    "\n",
    "\n",
    "\n"
   ]
  },
  {
   "cell_type": "code",
   "execution_count": 42,
   "metadata": {},
   "outputs": [],
   "source": [
    "# cluster 2  S phase \n",
    "add_napari_layer(adata, column = 'TraesCS1A03G0879600')  \n",
    "add_napari_layer(adata, column = 'TraesCS1A03G0879000')  \n",
    "add_napari_layer(adata, column = 'TraesCS1D03G0853100')  \n",
    "add_napari_layer(adata, column = 'TraesCS3A03G0316900') \n",
    "add_napari_layer(adata, column = 'TraesCS1A03G0723300') \n",
    "add_napari_layer(adata, column = 'TraesCS2B03G1047100')  \n",
    "add_napari_layer(adata, column = 'TraesCS1A03G0090800') \n",
    "add_napari_layer(adata, column = 'TraesCS1B03G1050300') \n",
    "add_napari_layer(adata, column = 'TraesCS6A03G0076200')  \n",
    "add_napari_layer(adata, column = 'TraesCS1B03G1035400') \n",
    "\n",
    "\n",
    "\n",
    "\n",
    "\n",
    "\n",
    "\n",
    "\n",
    "\n"
   ]
  },
  {
   "cell_type": "code",
   "execution_count": 43,
   "metadata": {},
   "outputs": [],
   "source": [
    "# cluster 3 Cortex\n",
    "add_napari_layer(adata, column = 'TraesCS1D03G0787300')  \n",
    "add_napari_layer(adata, column = 'TraesCS1D03G0787400')  \n",
    "add_napari_layer(adata, column = 'TraesCS2D03G0925700')  \n",
    "add_napari_layer(adata, column = 'TraesCS1A03G0817100') \n",
    "add_napari_layer(adata, column = 'TraesCS4B03G0814800') \n",
    "add_napari_layer(adata, column = 'TraesCS4B03G0814900') \n",
    "add_napari_layer(adata, column = 'TraesCS3A03G0974500') \n",
    "add_napari_layer(adata, column = 'TraesCS1B03G0768600') \n",
    "add_napari_layer(adata, column = 'TraesCS1B03G0646400') \n",
    "add_napari_layer(adata, column = 'TraesCS1A03G0554700') \n",
    "\n",
    "\n",
    "\n",
    "\n",
    "\n",
    "\n"
   ]
  },
  {
   "cell_type": "code",
   "execution_count": 44,
   "metadata": {},
   "outputs": [],
   "source": [
    "# cluster 3 Cortex \n",
    "add_napari_layer(adata, column = 'TraesCS1D03G0534700')  \n",
    "add_napari_layer(adata, column = 'TraesCS1A03G0554500')  \n",
    "add_napari_layer(adata, column = 'TraesCS3D03G0911000')  \n",
    "add_napari_layer(adata, column = 'TraesCS1D03G0534300')  \n",
    "add_napari_layer(adata, column = 'TraesCS1A03G0676300')  \n",
    "add_napari_layer(adata, column = 'TraesCS1B03G0645400')  \n",
    "add_napari_layer(adata, column = 'TraesCS1B03G0645800')  \n",
    "add_napari_layer(adata, column = 'TraesCS6B03G1181300')  \n",
    "add_napari_layer(adata, column = 'TraesCS7B03G0820900')  \n",
    "add_napari_layer(adata, column = 'TraesCS4B03G0809400')  \n",
    "add_napari_layer(adata, column = 'TraesCS2B03G1383800LC')  \n",
    "add_napari_layer(adata, column = 'TraesCS3D03G0146400')  \n",
    "add_napari_layer(adata, column = 'TraesCS4B03G0094500')  \n",
    "add_napari_layer(adata, column = 'TraesCS7B03G0675100')  \n",
    "add_napari_layer(adata, column = 'TraesCS2B03G1501600')  \n",
    "add_napari_layer(adata, column = 'TraesCS4A03G1016800')  \n",
    "add_napari_layer(adata, column = 'TraesCS7A03G0143900')  \n",
    "add_napari_layer(adata, column = 'TraesCSU03G0510000LC')  \n",
    "add_napari_layer(adata, column = 'TraesCS7A03G0983300')  \n",
    "add_napari_layer(adata, column = 'TraesCS1A03G0676400')  \n",
    "\n",
    "\n",
    "\n",
    "\n",
    "\n",
    "\n",
    "\n",
    "\n",
    "\n",
    "\n",
    "\n"
   ]
  },
  {
   "cell_type": "code",
   "execution_count": 45,
   "metadata": {},
   "outputs": [],
   "source": [
    "# cluster 4 unknown\n",
    "add_napari_layer(adata, column = 'TraesCS1B03G0069700')  \n",
    "add_napari_layer(adata, column = 'TraesCS1A03G0098300')  \n",
    "add_napari_layer(adata, column = 'TraesCS2D03G0859100LC')  \n",
    "add_napari_layer(adata, column = 'TraesCS3B03G0087500')  \n",
    "add_napari_layer(adata, column = 'TraesCS1B03G0068200')  \n",
    "add_napari_layer(adata, column = 'TraesCS4B03G0489300')  \n",
    "add_napari_layer(adata, column = 'TraesCS1B03G0048500')  \n",
    "add_napari_layer(adata, column = 'TraesCS2D03G0798400')  \n",
    "add_napari_layer(adata, column = 'TraesCS5B03G1052800')  \n",
    "add_napari_layer(adata, column = 'TraesCS4D03G0435400')  \n",
    "\n",
    "\n",
    "\n",
    "\n"
   ]
  },
  {
   "cell_type": "code",
   "execution_count": 46,
   "metadata": {},
   "outputs": [],
   "source": [
    "# cluster 5 unknown\n",
    "add_napari_layer(adata, column = 'TraesCS7D03G0370000')  \n",
    "add_napari_layer(adata, column = 'TraesCS3A03G1063100')  \n",
    "add_napari_layer(adata, column = 'TraesCS7A03G0384500')  \n",
    "add_napari_layer(adata, column = 'TraesCS3D03G0991100')  \n",
    "add_napari_layer(adata, column = 'TraesCS3A03G0209900')  \n",
    "add_napari_layer(adata, column = 'TraesCS7B03G0170600')  \n",
    "add_napari_layer(adata, column = 'TraesCS6A03G0822100')  \n",
    "add_napari_layer(adata, column = 'TraesCS3B03G1230400')  \n",
    "add_napari_layer(adata, column = 'TraesCS3D03G0946200')  \n",
    "add_napari_layer(adata, column = 'TraesCS7A03G0214300')  \n",
    "\n",
    "\n",
    "\n",
    "\n",
    "\n"
   ]
  },
  {
   "cell_type": "code",
   "execution_count": 47,
   "metadata": {},
   "outputs": [],
   "source": [
    "# cluster 6 \n",
    "add_napari_layer(adata, column = 'TraesCSU03G0016400')  \n",
    "add_napari_layer(adata, column = 'TraesCS4B03G0178500')  \n",
    "add_napari_layer(adata, column = 'TraesCS4A03G1041600')  \n",
    "add_napari_layer(adata, column = 'TraesCS1D03G0527600')  \n",
    "add_napari_layer(adata, column = 'TraesCS4A03G1041500')  \n",
    "add_napari_layer(adata, column = 'TraesCS2D03G0468100')  \n",
    "add_napari_layer(adata, column = 'TraesCS1A03G0547600')  \n",
    "add_napari_layer(adata, column = 'TraesCS2A03G0462100')  \n",
    "add_napari_layer(adata, column = 'TraesCS4D03G0146400')  \n",
    "add_napari_layer(adata, column = 'TraesCS2B03G0582100')  \n",
    "\n",
    "\n",
    "\n",
    "\n"
   ]
  },
  {
   "cell_type": "code",
   "execution_count": 48,
   "metadata": {},
   "outputs": [],
   "source": [
    "# cluster 6 \n",
    "add_napari_layer(adata, column = 'TraesCS7B03G0410500')  \n",
    "add_napari_layer(adata, column = 'TraesCS4D03G0146500')  \n",
    "add_napari_layer(adata, column = 'TraesCS2B03G0611400')  \n",
    "add_napari_layer(adata, column = 'TraesCS7A03G0816500')  \n",
    "add_napari_layer(adata, column = 'TraesCS2A03G0508300')  \n",
    "add_napari_layer(adata, column = 'TraesCS7A03G0586100')  \n",
    "add_napari_layer(adata, column = 'TraesCS2D03G0496100')  \n",
    "add_napari_layer(adata, column = 'TraesCS2B03G1319000')  \n",
    "add_napari_layer(adata, column = 'TraesCS4B03G0989000')  \n",
    "add_napari_layer(adata, column = 'TraesCS5D03G0906800')  \n",
    "\n",
    "\n",
    "\n",
    "\n",
    "\n",
    "\n",
    "\n",
    "\n",
    "\n",
    "\n",
    "\n"
   ]
  },
  {
   "cell_type": "code",
   "execution_count": 49,
   "metadata": {},
   "outputs": [],
   "source": [
    "# cluster 7  likely procambium\n",
    "add_napari_layer(adata, column = 'TraesCS7A03G0757500') \n",
    "add_napari_layer(adata, column = 'TraesCS7D03G0728800') \n",
    "add_napari_layer(adata, column = 'TraesCS5B03G1121200') \n",
    "add_napari_layer(adata, column = 'TraesCS3D03G1070900') \n",
    "add_napari_layer(adata, column = 'TraesCS4B03G0262700') \n",
    "add_napari_layer(adata, column = 'TraesCS6B03G0419800') \n",
    "add_napari_layer(adata, column = 'TraesCS5B03G0138900') \n",
    "add_napari_layer(adata, column = 'TraesCS5B03G0547100') \n",
    "add_napari_layer(adata, column = 'TraesCS7B03G0588000') \n",
    "add_napari_layer(adata, column = 'TraesCS4D03G0223700') \n",
    "\n",
    "\n",
    "\n",
    "\n",
    "\n",
    "\n",
    "\n",
    "\n",
    "\n"
   ]
  },
  {
   "cell_type": "code",
   "execution_count": 50,
   "metadata": {},
   "outputs": [],
   "source": [
    "# cluster 7   likely procambium?\n",
    "add_napari_layer(adata, column = 'TraesCS5D03G0150000LC') \n",
    "add_napari_layer(adata, column = 'TraesCS1D03G1000900') \n",
    "add_napari_layer(adata, column = 'TraesCS4B03G0238600') \n",
    "add_napari_layer(adata, column = 'TraesCS3A03G0715100') \n",
    "add_napari_layer(adata, column = 'TraesCS5A03G0127300') \n",
    "add_napari_layer(adata, column = 'TraesCS1B03G0187300') \n",
    "add_napari_layer(adata, column = 'TraesCS3B03G0820500') \n",
    "add_napari_layer(adata, column = 'TraesCS3B03G0250100') \n",
    "add_napari_layer(adata, column = 'TraesCS4D03G0201600') \n",
    "add_napari_layer(adata, column = 'TraesCS5A03G0535600') \n",
    "\n",
    "\n",
    "\n",
    "\n",
    "\n",
    "\n"
   ]
  },
  {
   "cell_type": "code",
   "execution_count": 51,
   "metadata": {},
   "outputs": [],
   "source": [
    "# cluster 8  unknown\n",
    "add_napari_layer(adata, column = 'TraesCS3B03G0898100') \n",
    "add_napari_layer(adata, column = 'TraesCS3D03G0402600') \n",
    "add_napari_layer(adata, column = 'TraesCS7D03G0401600') \n",
    "add_napari_layer(adata, column = 'TraesCS3A03G0429700') \n",
    "add_napari_layer(adata, column = 'TraesCS3B03G0508400') \n",
    "add_napari_layer(adata, column = 'TraesCS2A03G0749000') \n",
    "add_napari_layer(adata, column = 'TraesCS7B03G0218800') \n",
    "add_napari_layer(adata, column = 'TraesCS2B03G0423100') \n",
    "add_napari_layer(adata, column = 'TraesCS2D03G0321300') \n",
    "add_napari_layer(adata, column = 'TraesCS2D03G0692900') \n",
    "\n",
    "\n",
    "\n",
    "\n",
    "\n",
    "\n",
    "\n",
    "\n",
    "\n",
    "\n"
   ]
  },
  {
   "cell_type": "code",
   "execution_count": null,
   "metadata": {},
   "outputs": [],
   "source": []
  },
  {
   "cell_type": "code",
   "execution_count": 52,
   "metadata": {},
   "outputs": [],
   "source": [
    "# cluster 8  unknown\n",
    "add_napari_layer(adata, column = 'TraesCS1D03G0105400') \n",
    "add_napari_layer(adata, column = 'TraesCS6A03G0661900') \n",
    "add_napari_layer(adata, column = 'TraesCS6D03G0894200') \n",
    "add_napari_layer(adata, column = 'TraesCS3D03G1192600') \n",
    "add_napari_layer(adata, column = 'TraesCS7A03G0413900') \n",
    "add_napari_layer(adata, column = 'TraesCS1A03G0117100') \n",
    "add_napari_layer(adata, column = 'TraesCS6D03G0670000') \n",
    "add_napari_layer(adata, column = 'TraesCS1B03G0155900') \n",
    "add_napari_layer(adata, column = 'TraesCS2B03G1538800') \n",
    "add_napari_layer(adata, column = 'TraesCS3D03G0686600') \n",
    "\n",
    "\n",
    "\n",
    "\n",
    "\n",
    "\n",
    "\n",
    "\n",
    "\n",
    "\n"
   ]
  },
  {
   "cell_type": "code",
   "execution_count": 53,
   "metadata": {},
   "outputs": [],
   "source": [
    "# cluster 9  unknown  no obvious pattern in root sections\n",
    "add_napari_layer(adata, column = 'TraesCS3D03G0079600') \n",
    "add_napari_layer(adata, column = 'TraesCS3D03G0080400') \n",
    "add_napari_layer(adata, column = 'TraesCS4D03G0298500') \n",
    "add_napari_layer(adata, column = 'TraesCS3D03G0239000') \n",
    "add_napari_layer(adata, column = 'TraesCS3A03G0070700') \n",
    "add_napari_layer(adata, column = 'TraesCS3B03G0312200') \n",
    "add_napari_layer(adata, column = 'TraesCS6D03G0752200') \n",
    "add_napari_layer(adata, column = 'TraesCS6B03G1056600') \n",
    "add_napari_layer(adata, column = 'TraesCS3D03G0238500') \n",
    "add_napari_layer(adata, column = 'TraesCS3B03G0310600') \n",
    "\n",
    "\n",
    "\n",
    "\n",
    "\n",
    "\n",
    "\n",
    "\n",
    "\n",
    "\n",
    "\n"
   ]
  },
  {
   "cell_type": "code",
   "execution_count": 55,
   "metadata": {},
   "outputs": [],
   "source": [
    "# cluster 10  xylem\n",
    "add_napari_layer(adata, column = 'TraesCS5A03G0388600') \n",
    "add_napari_layer(adata, column = 'TraesCS5B03G0387000') \n",
    "add_napari_layer(adata, column = 'TraesCS5D03G0377000') \n",
    "add_napari_layer(adata, column = 'TraesCS1D03G0049400') \n",
    "add_napari_layer(adata, column = 'TraesCS1A03G0062800') \n",
    "add_napari_layer(adata, column = 'TraesCS2B03G0484900') \n",
    "add_napari_layer(adata, column = 'TraesCS6D03G0082600') \n",
    "add_napari_layer(adata, column = 'TraesCS2A03G0730800') \n",
    "add_napari_layer(adata, column = 'TraesCS7B03G0805100') \n",
    "add_napari_layer(adata, column = 'TraesCS3B03G1344800') \n",
    "add_napari_layer(adata, column = 'TraesCSU03G0020100') \n",
    "add_napari_layer(adata, column = 'TraesCS2B03G0806600') \n",
    "add_napari_layer(adata, column = 'TraesCS6D03G0654300') \n",
    "add_napari_layer(adata, column = 'TraesCS2D03G0673900') \n",
    "add_napari_layer(adata, column = 'TraesCS6A03G0080100') \n",
    "add_napari_layer(adata, column = 'TraesCS3B03G0012900') \n",
    "add_napari_layer(adata, column = 'TraesCS7A03G0969300') \n",
    "add_napari_layer(adata, column = 'TraesCS3D03G0008300') \n",
    "add_napari_layer(adata, column = 'TraesCS7A03G0446200') \n",
    "add_napari_layer(adata, column = 'TraesCS1B03G0066500') \n",
    "\n",
    "\n",
    "\n",
    "\n",
    "\n",
    "\n",
    "\n",
    "\n",
    "\n",
    "\n",
    "\n",
    "\n",
    "\n",
    "\n",
    "\n",
    "\n",
    "\n",
    "\n",
    "\n",
    "\n",
    "\n",
    "\n",
    "\n"
   ]
  },
  {
   "cell_type": "code",
   "execution_count": 56,
   "metadata": {},
   "outputs": [],
   "source": [
    "# cluster 11  epidermis + cortex\n",
    "add_napari_layer(adata, column = 'TraesCS5A03G0907300') \n",
    "add_napari_layer(adata, column = 'TraesCS1D03G0244200') \n",
    "add_napari_layer(adata, column = 'TraesCS6D03G0846300') \n",
    "add_napari_layer(adata, column = 'TraesCS2B03G1536600') \n",
    "add_napari_layer(adata, column = 'TraesCS2B03G1500200')  # epidermis + cortex\n",
    "add_napari_layer(adata, column = 'TraesCS7A03G1099200') \n",
    "add_napari_layer(adata, column = 'TraesCS5B03G0958400') \n",
    "add_napari_layer(adata, column = 'TraesCSU03G0020900') \n",
    "add_napari_layer(adata, column = 'TraesCS7B03G0820900') \n",
    "add_napari_layer(adata, column = 'TraesCS7A03G0983300') \n",
    "\n",
    "\n",
    "\n",
    "\n",
    "\n",
    "\n",
    "\n",
    "\n"
   ]
  },
  {
   "cell_type": "code",
   "execution_count": 57,
   "metadata": {},
   "outputs": [],
   "source": [
    "# cluster 12 \n",
    "add_napari_layer(adata, column = 'TraesCS2D03G0803000') \n",
    "add_napari_layer(adata, column = 'TraesCS2A03G0863000') \n",
    "add_napari_layer(adata, column = 'TraesCS3B03G0839200LC') \n",
    "add_napari_layer(adata, column = 'TraesCS2B03G0955500') \n",
    "add_napari_layer(adata, column = 'TraesCS4D03G0742700') \n",
    "add_napari_layer(adata, column = 'TraesCS3A03G0935100') \n",
    "add_napari_layer(adata, column = 'TraesCS1B03G0616100') \n",
    "add_napari_layer(adata, column = 'TraesCS4B03G0833500') \n",
    "add_napari_layer(adata, column = 'TraesCS3B03G0918400') \n",
    "add_napari_layer(adata, column = 'TraesCS3B03G1202600') \n",
    "add_napari_layer(adata, column = 'TraesCS3D03G0735900') \n",
    "add_napari_layer(adata, column = 'TraesCS2D03G0129500') \n",
    "add_napari_layer(adata, column = 'TraesCS1A03G0526900') \n",
    "add_napari_layer(adata, column = 'TraesCS1D03G0508400') \n",
    "add_napari_layer(adata, column = 'TraesCS1D03G0735800') \n",
    "add_napari_layer(adata, column = 'TraesCS1B03G0879500') \n",
    "add_napari_layer(adata, column = 'TraesCS2A03G0132400') \n",
    "add_napari_layer(adata, column = 'TraesCS3D03G0969300') \n",
    "add_napari_layer(adata, column = 'TraesCS7D03G1262100') \n",
    "add_napari_layer(adata, column = 'TraesCS3A03G0796600') \n",
    "\n",
    "\n",
    "\n",
    "\n",
    "\n",
    "\n",
    "\n",
    "\n",
    "\n",
    "\n",
    "\n",
    "\n",
    "\n",
    "\n",
    "\n",
    "\n",
    "\n",
    "\n",
    "\n"
   ]
  },
  {
   "cell_type": "code",
   "execution_count": 13,
   "metadata": {},
   "outputs": [],
   "source": [
    "# res0.24  cluster 0 initials\n",
    "add_napari_layer(adata, column = 'TraesCS5B03G1052800') \n",
    "add_napari_layer(adata, column = 'TraesCS1B03G0069700') \n",
    "add_napari_layer(adata, column = 'TraesCS2B03G1501600') \n",
    "add_napari_layer(adata, column = 'TraesCS5A03G0948700') \n",
    "add_napari_layer(adata, column = 'TraesCS5A03G1006700') \n",
    "add_napari_layer(adata, column = 'TraesCS3B03G0498100') \n",
    "add_napari_layer(adata, column = 'TraesCS4B03G0489300') \n",
    "add_napari_layer(adata, column = 'TraesCS3D03G0146400') \n",
    "add_napari_layer(adata, column = 'TraesCS1B03G0841700') \n",
    "add_napari_layer(adata, column = 'TraesCS3D03G0061500') \n",
    "add_napari_layer(adata, column = 'TraesCS1B03G0768600') \n",
    "add_napari_layer(adata, column = 'TraesCS2A03G0313900') \n",
    "add_napari_layer(adata, column = 'TraesCS1D03G0703900') \n",
    "add_napari_layer(adata, column = 'TraesCS4B03G0939900') \n",
    "add_napari_layer(adata, column = 'TraesCS3A03G0812200') \n",
    "add_napari_layer(adata, column = 'TraesCS3B03G0087700') \n",
    "add_napari_layer(adata, column = 'TraesCS4D03G0668900') \n",
    "add_napari_layer(adata, column = 'TraesCS2D03G0859100LC') \n",
    "add_napari_layer(adata, column = 'TraesCS2B03G1500200') \n",
    "add_napari_layer(adata, column = 'TraesCS3D03G0392300') \n",
    "\n",
    "\n",
    "\n",
    "\n",
    "\n",
    "\n",
    "\n",
    "\n",
    "\n",
    "\n"
   ]
  },
  {
   "cell_type": "code",
   "execution_count": 18,
   "metadata": {},
   "outputs": [
    {
     "name": "stderr",
     "output_type": "stream",
     "text": [
      "WARNING: Traceback (most recent call last):\n",
      "  File \"/Users/yujike/opt/anaconda3/envs/Pandas/lib/python3.8/runpy.py\", line 194, in _run_module_as_main\n",
      "    return _run_code(code, main_globals, None,\n",
      "  File \"/Users/yujike/opt/anaconda3/envs/Pandas/lib/python3.8/runpy.py\", line 87, in _run_code\n",
      "    exec(code, run_globals)\n",
      "  File \"/Users/yujike/opt/anaconda3/envs/Pandas/lib/python3.8/site-packages/ipykernel_launcher.py\", line 17, in <module>\n",
      "    app.launch_new_instance()\n",
      "  File \"/Users/yujike/opt/anaconda3/envs/Pandas/lib/python3.8/site-packages/traitlets/config/application.py\", line 1043, in launch_instance\n",
      "    app.start()\n",
      "  File \"/Users/yujike/opt/anaconda3/envs/Pandas/lib/python3.8/site-packages/ipykernel/kernelapp.py\", line 725, in start\n",
      "    self.io_loop.start()\n",
      "  File \"/Users/yujike/opt/anaconda3/envs/Pandas/lib/python3.8/site-packages/tornado/platform/asyncio.py\", line 215, in start\n",
      "    self.asyncio_loop.run_forever()\n",
      "  File \"/Users/yujike/opt/anaconda3/envs/Pandas/lib/python3.8/asyncio/base_events.py\", line 570, in run_forever\n",
      "    self._run_once()\n",
      "  File \"/Users/yujike/opt/anaconda3/envs/Pandas/lib/python3.8/asyncio/base_events.py\", line 1859, in _run_once\n",
      "    handle._run()\n",
      "  File \"/Users/yujike/opt/anaconda3/envs/Pandas/lib/python3.8/asyncio/events.py\", line 81, in _run\n",
      "    self._context.run(self._callback, *self._args)\n",
      "  File \"/Users/yujike/opt/anaconda3/envs/Pandas/lib/python3.8/site-packages/ipykernel/kernelbase.py\", line 513, in dispatch_queue\n",
      "    await self.process_one()\n",
      "  File \"/Users/yujike/opt/anaconda3/envs/Pandas/lib/python3.8/site-packages/ipykernel/kernelbase.py\", line 502, in process_one\n",
      "    await dispatch(*args)\n",
      "  File \"/Users/yujike/opt/anaconda3/envs/Pandas/lib/python3.8/site-packages/ipykernel/kernelbase.py\", line 409, in dispatch_shell\n",
      "    await result\n",
      "  File \"/Users/yujike/opt/anaconda3/envs/Pandas/lib/python3.8/site-packages/ipykernel/kernelbase.py\", line 729, in execute_request\n",
      "    reply_content = await reply_content\n",
      "  File \"/Users/yujike/opt/anaconda3/envs/Pandas/lib/python3.8/site-packages/ipykernel/ipkernel.py\", line 422, in do_execute\n",
      "    res = shell.run_cell(\n",
      "  File \"/Users/yujike/opt/anaconda3/envs/Pandas/lib/python3.8/site-packages/ipykernel/zmqshell.py\", line 540, in run_cell\n",
      "    return super().run_cell(*args, **kwargs)\n",
      "  File \"/Users/yujike/opt/anaconda3/envs/Pandas/lib/python3.8/site-packages/IPython/core/interactiveshell.py\", line 2961, in run_cell\n",
      "    result = self._run_cell(\n",
      "  File \"/Users/yujike/opt/anaconda3/envs/Pandas/lib/python3.8/site-packages/IPython/core/interactiveshell.py\", line 3016, in _run_cell\n",
      "    result = runner(coro)\n",
      "  File \"/Users/yujike/opt/anaconda3/envs/Pandas/lib/python3.8/site-packages/IPython/core/async_helpers.py\", line 129, in _pseudo_sync_runner\n",
      "    coro.send(None)\n",
      "  File \"/Users/yujike/opt/anaconda3/envs/Pandas/lib/python3.8/site-packages/IPython/core/interactiveshell.py\", line 3221, in run_cell_async\n",
      "    has_raised = await self.run_ast_nodes(code_ast.body, cell_name,\n",
      "  File \"/Users/yujike/opt/anaconda3/envs/Pandas/lib/python3.8/site-packages/IPython/core/interactiveshell.py\", line 3400, in run_ast_nodes\n",
      "    if await self.run_code(code, result, async_=asy):\n",
      "  File \"/Users/yujike/opt/anaconda3/envs/Pandas/lib/python3.8/site-packages/IPython/core/interactiveshell.py\", line 3460, in run_code\n",
      "    exec(code_obj, self.user_global_ns, self.user_ns)\n",
      "  File \"/var/folders/ch/nyzh10996mzbm4r4pj4m0qd00000gn/T/ipykernel_1445/3372767314.py\", line 2, in <module>\n",
      "    add_napari_layer(adata, column = 'TraesCS7D03G1077100')\n",
      "  File \"/var/folders/ch/nyzh10996mzbm4r4pj4m0qd00000gn/T/ipykernel_1445/3279504516.py\", line 34, in add_napari_layer\n",
      "    viewer.add_shapes(coords_to_plot,name=name,shape_type='polygon',face_color=column,opacity=0.7,edge_width=3,edge_color='white',features=Columns,face_colormap=colormap)\n",
      "  File \"/Users/yujike/opt/anaconda3/envs/Pandas/lib/python3.8/site-packages/napari/components/viewer_model.py\", line 5, in add_shapes\n",
      "    import os\n",
      "  File \"/Users/yujike/opt/anaconda3/envs/Pandas/lib/python3.8/_collections_abc.py\", line 962, in append\n",
      "    self.insert(len(self), value)\n",
      "  File \"/Users/yujike/opt/anaconda3/envs/Pandas/lib/python3.8/site-packages/napari/components/layerlist.py\", line 166, in insert\n",
      "    super().insert(index, new_layer)\n",
      "  File \"/Users/yujike/opt/anaconda3/envs/Pandas/lib/python3.8/site-packages/napari/utils/events/containers/_selectable_list.py\", line 66, in insert\n",
      "    super().insert(index, value)\n",
      "  File \"/Users/yujike/opt/anaconda3/envs/Pandas/lib/python3.8/site-packages/napari/utils/events/containers/_evented_list.py\", line 188, in insert\n",
      "    self.events.inserted(index=index, value=value)\n",
      "  File \"/Users/yujike/opt/anaconda3/envs/Pandas/lib/python3.8/site-packages/napari/utils/events/event.py\", line 757, in __call__\n",
      "    self._invoke_callback(cb, event if pass_event else None)\n",
      "  File \"/Users/yujike/opt/anaconda3/envs/Pandas/lib/python3.8/site-packages/napari/utils/events/event.py\", line 781, in _invoke_callback\n",
      "    cb(event)\n",
      "  File \"/Users/yujike/opt/anaconda3/envs/Pandas/lib/python3.8/site-packages/napari/_qt/qt_viewer.py\", line 534, in _on_add_layer_change\n",
      "    self._add_layer(layer)\n",
      "  File \"/Users/yujike/opt/anaconda3/envs/Pandas/lib/python3.8/site-packages/napari/_qt/qt_viewer.py\", line 558, in _add_layer\n",
      "    vispy_layer.node.parent = self.view.scene\n",
      "  File \"/Users/yujike/opt/anaconda3/envs/Pandas/lib/python3.8/site-packages/vispy/util/frozen.py\", line 17, in __setattr__\n",
      "    object.__setattr__(self, key, value)\n",
      "  File \"/Users/yujike/opt/anaconda3/envs/Pandas/lib/python3.8/site-packages/vispy/scene/node.py\", line 198, in parent\n",
      "    self._set_canvas(parent.canvas)\n",
      "  File \"/Users/yujike/opt/anaconda3/envs/Pandas/lib/python3.8/site-packages/vispy/scene/node.py\", line 315, in _set_canvas\n",
      "    self.transforms.canvas_transform = tr.canvas_transform\n",
      "  File \"/Users/yujike/opt/anaconda3/envs/Pandas/lib/python3.8/site-packages/vispy/visuals/transforms/transform_system.py\", line 301, in canvas_transform\n",
      "    self._canvas_transform.transforms = tr\n",
      "  File \"/Users/yujike/opt/anaconda3/envs/Pandas/lib/python3.8/site-packages/vispy/visuals/transforms/chain.py\", line 96, in transforms\n",
      "    self.update()\n",
      "  File \"/Users/yujike/opt/anaconda3/envs/Pandas/lib/python3.8/site-packages/vispy/visuals/transforms/base_transform.py\", line 148, in update\n",
      "    self.changed(*args)\n",
      "  File \"/Users/yujike/opt/anaconda3/envs/Pandas/lib/python3.8/site-packages/vispy/util/event.py\", line 453, in __call__\n",
      "    self._invoke_callback(cb, event)\n",
      "  File \"/Users/yujike/opt/anaconda3/envs/Pandas/lib/python3.8/site-packages/vispy/util/event.py\", line 469, in _invoke_callback\n",
      "    cb(event)\n",
      "  File \"/Users/yujike/opt/anaconda3/envs/Pandas/lib/python3.8/site-packages/vispy/util/event.py\", line 453, in __call__\n",
      "    self._invoke_callback(cb, event)\n",
      "  File \"/Users/yujike/opt/anaconda3/envs/Pandas/lib/python3.8/site-packages/vispy/util/event.py\", line 469, in _invoke_callback\n",
      "    cb(event)\n",
      "  File \"/Users/yujike/opt/anaconda3/envs/Pandas/lib/python3.8/site-packages/vispy/visuals/visual.py\", line 267, in _transform_changed\n",
      "    self.update()\n",
      "  File \"/Users/yujike/opt/anaconda3/envs/Pandas/lib/python3.8/site-packages/vispy/scene/node.py\", line 329, in update\n",
      "    self.events.update()\n",
      "  File \"/Users/yujike/opt/anaconda3/envs/Pandas/lib/python3.8/site-packages/vispy/util/event.py\", line 453, in __call__\n",
      "    self._invoke_callback(cb, event)\n",
      "  File \"/Users/yujike/opt/anaconda3/envs/Pandas/lib/python3.8/site-packages/vispy/util/event.py\", line 471, in _invoke_callback\n",
      "    _handle_exception(self.ignore_callback_errors,\n",
      "  << caught exception here: >>\n",
      "  File \"/Users/yujike/opt/anaconda3/envs/Pandas/lib/python3.8/site-packages/vispy/util/event.py\", line 469, in _invoke_callback\n",
      "    cb(event)\n",
      "  File \"/Users/yujike/opt/anaconda3/envs/Pandas/lib/python3.8/site-packages/vispy/visuals/visual.py\", line 589, in _subv_update\n",
      "    self.update()\n",
      "  File \"/Users/yujike/opt/anaconda3/envs/Pandas/lib/python3.8/site-packages/vispy/scene/node.py\", line 332, in update\n",
      "    c.update(node=self)\n",
      "  File \"/Users/yujike/opt/anaconda3/envs/Pandas/lib/python3.8/site-packages/vispy/scene/canvas.py\", line 201, in update\n",
      "    super(SceneCanvas, self).update()\n",
      "  File \"/Users/yujike/opt/anaconda3/envs/Pandas/lib/python3.8/site-packages/vispy/app/canvas.py\", line 448, in update\n",
      "    self._backend._vispy_update()\n",
      "  File \"/Users/yujike/opt/anaconda3/envs/Pandas/lib/python3.8/site-packages/vispy/app/backends/_qt.py\", line 486, in _vispy_update\n",
      "    self.update()\n",
      "RuntimeError: wrapped C/C++ object of type CanvasBackendDesktop has been deleted\n",
      "ERROR: Invoking <bound method CompoundVisual._subv_update of <ShapesVisual at 0x7f860d99e6a0>> for Event\n"
     ]
    }
   ],
   "source": [
    "# best_annotation_endodermis ?\n",
    "add_napari_layer(adata, column = 'TraesCS7D03G1077100') \n",
    "add_napari_layer(adata, column = 'TraesCS7B03G0854100') \n",
    "add_napari_layer(adata, column = 'TraesCS3D03G0900300') \n",
    "add_napari_layer(adata, column = 'TraesCS3A03G0287200') \n",
    "add_napari_layer(adata, column = 'TraesCS6B03G0004100') \n",
    "add_napari_layer(adata, column = 'TraesCS6D03G0848200') \n",
    "add_napari_layer(adata, column = 'TraesCS6A03G0967600') \n"
   ]
  },
  {
   "cell_type": "code",
   "execution_count": 14,
   "metadata": {},
   "outputs": [],
   "source": [
    "# cluster 1   ??? epidermis ???\n",
    "add_napari_layer(adata, column = 'TraesCS4A03G0065200') \n",
    "add_napari_layer(adata, column = 'TraesCS4D03G0642700') \n",
    "add_napari_layer(adata, column = 'TraesCS4D03G0642600') \n",
    "add_napari_layer(adata, column = 'TraesCS4A03G0065100') \n",
    "add_napari_layer(adata, column = 'TraesCS3D03G1197600') \n",
    "add_napari_layer(adata, column = 'TraesCS4B03G0721600') \n",
    "add_napari_layer(adata, column = 'TraesCS4B03G0721800') \n",
    "add_napari_layer(adata, column = 'TraesCS6B03G0123000') \n",
    "add_napari_layer(adata, column = 'TraesCS2D03G0321600') \n",
    "add_napari_layer(adata, column = 'TraesCS3A03G0287200') \n",
    "add_napari_layer(adata, column = 'TraesCS6D03G0086400') \n",
    "add_napari_layer(adata, column = 'TraesCS3D03G0900300') \n",
    "add_napari_layer(adata, column = 'TraesCS2B03G0423400') \n",
    "add_napari_layer(adata, column = 'TraesCS3B03G0861400') \n",
    "add_napari_layer(adata, column = 'TraesCS7B03G0299800') \n",
    "add_napari_layer(adata, column = 'TraesCS6A03G0967600') \n",
    "add_napari_layer(adata, column = 'TraesCS4B03G0941900') \n",
    "add_napari_layer(adata, column = 'TraesCS4A03G1056600LC') \n",
    "add_napari_layer(adata, column = 'TraesCS1B03G0651500') \n",
    "add_napari_layer(adata, column = 'TraesCS3A03G0754700LC') \n",
    "add_napari_layer(adata, column = 'TraesCS6B03G1184300') \n",
    "add_napari_layer(adata, column = 'TraesCS5B03G0722200') \n",
    "add_napari_layer(adata, column = 'TraesCS6B03G1184200') \n",
    "add_napari_layer(adata, column = 'TraesCS6A03G0967400') \n",
    "add_napari_layer(adata, column = 'TraesCS6D03G0848200') \n",
    "\n",
    "\n",
    "\n",
    "\n",
    "\n",
    "\n",
    "\n",
    "\n",
    "\n",
    "\n"
   ]
  },
  {
   "cell_type": "code",
   "execution_count": 16,
   "metadata": {},
   "outputs": [],
   "source": [
    "# cluster 2  Cortex \n",
    "add_napari_layer(adata, column = 'TraesCS2B03G1096500') \n",
    "add_napari_layer(adata, column = 'TraesCS7B03G1036600') \n",
    "add_napari_layer(adata, column = 'TraesCS2D03G0925700') \n",
    "add_napari_layer(adata, column = 'TraesCS3B03G1121400') \n",
    "add_napari_layer(adata, column = 'TraesCS6B03G0811700') \n",
    "add_napari_layer(adata, column = 'TraesCS2A03G0988000') \n",
    "add_napari_layer(adata, column = 'TraesCS7D03G1271400') \n",
    "add_napari_layer(adata, column = 'TraesCS3A03G0974500') \n",
    "add_napari_layer(adata, column = 'TraesCS4D03G0728500') \n",
    "add_napari_layer(adata, column = 'TraesCS1A03G0817100') \n",
    "add_napari_layer(adata, column = 'TraesCS7A03G1345700') \n",
    "add_napari_layer(adata, column = 'TraesCS1A03G0026200') \n",
    "add_napari_layer(adata, column = 'TraesCS1D03G0534600') \n",
    "add_napari_layer(adata, column = 'TraesCS6D03G0553800') \n",
    "add_napari_layer(adata, column = 'TraesCS1D03G0787400') \n",
    "add_napari_layer(adata, column = 'TraesCS1D03G0787300') \n",
    "add_napari_layer(adata, column = 'TraesCS1B03G1174700') \n",
    "add_napari_layer(adata, column = 'TraesCS1B03G1234700') \n",
    "add_napari_layer(adata, column = 'TraesCS1A03G0554700') \n",
    "add_napari_layer(adata, column = 'TraesCS4B03G0814800') \n",
    "add_napari_layer(adata, column = 'TraesCS3D03G0911000') \n",
    "add_napari_layer(adata, column = 'TraesCS3B03G1120300') \n",
    "add_napari_layer(adata, column = 'TraesCS4B03G0094500') \n",
    "add_napari_layer(adata, column = 'TraesCS1D03G0534700') \n",
    "add_napari_layer(adata, column = 'TraesCS1B03G0645400') \n",
    "add_napari_layer(adata, column = 'TraesCS1B03G0646400') \n",
    "add_napari_layer(adata, column = 'TraesCS7A03G0983300') \n",
    "add_napari_layer(adata, column = 'TraesCSU03G0510000LC') \n",
    "add_napari_layer(adata, column = 'TraesCS7A03G0143900') \n",
    "add_napari_layer(adata, column = 'TraesCS7B03G0820900') \n",
    "add_napari_layer(adata, column = 'TraesCS6B03G1181300') \n",
    "add_napari_layer(adata, column = 'TraesCS1B03G0645800') \n",
    "add_napari_layer(adata, column = 'TraesCS4B03G0814900') \n",
    "add_napari_layer(adata, column = 'TraesCS1A03G0554500') \n",
    "add_napari_layer(adata, column = 'TraesCS1B03G0768600') \n",
    "add_napari_layer(adata, column = 'TraesCS1A03G0676300') \n",
    "add_napari_layer(adata, column = 'TraesCS2B03G1501600') \n",
    "add_napari_layer(adata, column = 'TraesCS2B03G1383800LC') \n",
    "add_napari_layer(adata, column = 'TraesCS1D03G0534300') \n",
    "add_napari_layer(adata, column = 'TraesCS3D03G0146400') \n",
    "\n",
    "\n",
    "\n",
    "\n",
    "\n",
    "\n",
    "\n",
    "\n",
    "\n",
    "\n",
    "\n",
    "\n",
    "\n",
    "\n",
    "\n"
   ]
  },
  {
   "cell_type": "code",
   "execution_count": 17,
   "metadata": {},
   "outputs": [],
   "source": [
    "# cluster 4  provascular cells\n",
    "add_napari_layer(adata, column = 'TraesCS3B03G0036500') \n",
    "add_napari_layer(adata, column = 'TraesCS4D03G0562400') \n",
    "add_napari_layer(adata, column = 'TraesCS1A03G0532100') \n",
    "add_napari_layer(adata, column = 'TraesCS1B03G0622300') \n",
    "add_napari_layer(adata, column = 'TraesCS7A03G0475200') \n",
    "add_napari_layer(adata, column = 'TraesCS6D03G0573300') \n",
    "add_napari_layer(adata, column = 'TraesCS2B03G0107600') \n",
    "add_napari_layer(adata, column = 'TraesCS3D03G0013700') \n",
    "add_napari_layer(adata, column = 'TraesCS5D03G0346300') \n",
    "add_napari_layer(adata, column = 'TraesCS3A03G0016400') \n",
    "add_napari_layer(adata, column = 'TraesCS1B03G0050600') \n",
    "add_napari_layer(adata, column = 'TraesCS6D03G0550100LC') \n",
    "add_napari_layer(adata, column = 'TraesCS6A03G0661700LC') \n",
    "add_napari_layer(adata, column = 'TraesCS3D03G0132200') \n",
    "add_napari_layer(adata, column = 'TraesCS2A03G0412800') \n",
    "add_napari_layer(adata, column = 'TraesCS1B03G0053600') \n",
    "add_napari_layer(adata, column = 'TraesCS1B03G0051800') \n",
    "add_napari_layer(adata, column = 'TraesCS7D03G1240300') \n",
    "add_napari_layer(adata, column = 'TraesCS5B03G0678400LC') \n",
    "add_napari_layer(adata, column = 'TraesCS2B03G1307900') \n",
    "\n",
    "\n",
    "\n",
    "\n",
    "\n",
    "\n",
    "\n",
    "\n",
    "\n",
    "\n",
    "\n",
    "\n",
    "\n",
    "\n",
    "\n",
    "\n",
    "\n",
    "\n",
    "\n",
    "\n",
    "\n"
   ]
  },
  {
   "cell_type": "code",
   "execution_count": 18,
   "metadata": {},
   "outputs": [],
   "source": [
    "# cluster 5 \n",
    "add_napari_layer(adata, column = 'TraesCS3B03G0310800') \n",
    "add_napari_layer(adata, column = 'TraesCS3D03G0239000') \n",
    "add_napari_layer(adata, column = 'TraesCS4D03G0546300') \n",
    "add_napari_layer(adata, column = 'TraesCS7D03G0517200') \n",
    "add_napari_layer(adata, column = 'TraesCS3D03G0079700') \n",
    "add_napari_layer(adata, column = 'TraesCS3D03G0946200') \n",
    "add_napari_layer(adata, column = 'TraesCS4B03G0618200') \n",
    "add_napari_layer(adata, column = 'TraesCS3D03G0238700') \n",
    "add_napari_layer(adata, column = 'TraesCS3D03G0079900') \n",
    "add_napari_layer(adata, column = 'TraesCS6B03G0962400') \n",
    "add_napari_layer(adata, column = 'TraesCS1D03G0681300') \n",
    "add_napari_layer(adata, column = 'TraesCS3B03G0311700') \n",
    "add_napari_layer(adata, column = 'TraesCS3D03G0079600') \n",
    "add_napari_layer(adata, column = 'TraesCS1A03G0193000') \n",
    "add_napari_layer(adata, column = 'TraesCS7B03G0223000') \n",
    "add_napari_layer(adata, column = 'TraesCS7B03G0355800') \n",
    "add_napari_layer(adata, column = 'TraesCS1B03G0260800') \n",
    "add_napari_layer(adata, column = 'TraesCS7B03G0170600') \n",
    "add_napari_layer(adata, column = 'TraesCS1B03G0819300') \n",
    "add_napari_layer(adata, column = 'TraesCS3D03G0079800') \n",
    "\n",
    "\n",
    "\n",
    "\n",
    "\n",
    "\n",
    "\n",
    "\n",
    "\n",
    "\n",
    "\n"
   ]
  },
  {
   "cell_type": "code",
   "execution_count": 19,
   "metadata": {},
   "outputs": [],
   "source": [
    "# cluster 6 procambium \n",
    "add_napari_layer(adata, column = 'TraesCS4D03G0691800') \n",
    "add_napari_layer(adata, column = 'TraesCS2B03G1372800') \n",
    "add_napari_layer(adata, column = 'TraesCS3A03G1137900') \n",
    "add_napari_layer(adata, column = 'TraesCS2D03G1158000') \n",
    "add_napari_layer(adata, column = 'TraesCS4A03G0786200') \n",
    "add_napari_layer(adata, column = 'TraesCS3B03G1323800') \n",
    "add_napari_layer(adata, column = 'TraesCS2A03G1202600') \n",
    "add_napari_layer(adata, column = 'TraesCS4D03G0264900LC') \n",
    "add_napari_layer(adata, column = 'TraesCS5D03G1199300') \n",
    "add_napari_layer(adata, column = 'TraesCS5A03G0127300') \n",
    "add_napari_layer(adata, column = 'TraesCS4A03G0535400') \n",
    "add_napari_layer(adata, column = 'TraesCS7B03G0588000') \n",
    "add_napari_layer(adata, column = 'TraesCS5D03G0150000LC') \n",
    "add_napari_layer(adata, column = 'TraesCS7D03G0728800') \n",
    "add_napari_layer(adata, column = 'TraesCS5B03G0138900') \n",
    "add_napari_layer(adata, column = 'TraesCS4B03G0238600') \n",
    "add_napari_layer(adata, column = 'TraesCS3A03G0715100') \n",
    "add_napari_layer(adata, column = 'TraesCS3B03G1338300') \n",
    "add_napari_layer(adata, column = 'TraesCS3B03G0820500') \n",
    "add_napari_layer(adata, column = 'TraesCS5B03G0547100') \n",
    "add_napari_layer(adata, column = 'TraesCS1D03G1000900') \n",
    "add_napari_layer(adata, column = 'TraesCS1B03G0187300') \n",
    "add_napari_layer(adata, column = 'TraesCS7A03G0757500') \n",
    "add_napari_layer(adata, column = 'TraesCS1B03G1236400') \n",
    "add_napari_layer(adata, column = 'TraesCS3D03G1070900') \n",
    "add_napari_layer(adata, column = 'TraesCS3B03G0250100') \n",
    "add_napari_layer(adata, column = 'TraesCS4D03G0223700') \n",
    "add_napari_layer(adata, column = 'TraesCS5B03G1121200') \n",
    "add_napari_layer(adata, column = 'TraesCS6B03G0419800') \n",
    "add_napari_layer(adata, column = 'TraesCS4B03G0262700') \n",
    "\n",
    "\n",
    "\n",
    "\n",
    "\n",
    "\n",
    "\n",
    "\n",
    "\n",
    "\n",
    "\n",
    "\n",
    "\n",
    "\n",
    "\n",
    "\n",
    "\n",
    "\n",
    "\n"
   ]
  },
  {
   "cell_type": "code",
   "execution_count": 20,
   "metadata": {},
   "outputs": [],
   "source": [
    "# cluster 7 epidermis \n",
    "add_napari_layer(adata, column = 'TraesCS1D03G0362900') \n",
    "add_napari_layer(adata, column = 'TraesCS3B03G1278300') \n",
    "add_napari_layer(adata, column = 'TraesCS7A03G1125900') \n",
    "add_napari_layer(adata, column = 'TraesCS4B03G0721400') \n",
    "add_napari_layer(adata, column = 'TraesCS2B03G0426900') \n",
    "add_napari_layer(adata, column = 'TraesCS2B03G0426800') \n",
    "add_napari_layer(adata, column = 'TraesCS3D03G1015700') \n",
    "add_napari_layer(adata, column = 'TraesCS4A03G0065400') \n",
    "add_napari_layer(adata, column = 'TraesCS7A03G0992300LC') \n",
    "add_napari_layer(adata, column = 'TraesCS6B03G0242600') \n",
    "add_napari_layer(adata, column = 'TraesCS2B03G1540400') \n",
    "add_napari_layer(adata, column = 'TraesCS2A03G0309200') \n",
    "add_napari_layer(adata, column = 'TraesCS2B03G1534500') \n",
    "add_napari_layer(adata, column = 'TraesCS2B03G0426600LC') \n",
    "add_napari_layer(adata, column = 'TraesCS3D03G0000500') \n",
    "add_napari_layer(adata, column = 'TraesCS2A03G0309100LC') \n",
    "add_napari_layer(adata, column = 'TraesCS7B03G0829700LC') \n",
    "add_napari_layer(adata, column = 'TraesCS3A03G1099100') \n",
    "add_napari_layer(adata, column = 'TraesCS5B03G1313300') \n",
    "add_napari_layer(adata, column = 'TraesCS7D03G0949000') \n",
    "add_napari_layer(adata, column = 'TraesCS2D03G0324400') \n",
    "add_napari_layer(adata, column = 'TraesCS4A03G0828700') \n",
    "add_napari_layer(adata, column = 'TraesCS7A03G0992500LC') \n",
    "add_napari_layer(adata, column = 'TraesCS7A03G0992200LC') \n",
    "add_napari_layer(adata, column = 'TraesCS3B03G0134900') \n",
    "add_napari_layer(adata, column = 'TraesCS3A03G0103100') \n",
    "add_napari_layer(adata, column = 'TraesCS7D03G0969900LC') \n",
    "add_napari_layer(adata, column = 'TraesCS2D03G0324500') \n",
    "add_napari_layer(adata, column = 'TraesCS5D03G1173000') \n",
    "\n",
    "\n",
    "\n",
    "\n",
    "\n",
    "\n",
    "\n",
    "\n",
    "\n",
    "\n",
    "\n",
    "\n"
   ]
  },
  {
   "cell_type": "code",
   "execution_count": 21,
   "metadata": {},
   "outputs": [],
   "source": [
    "# cluster 8  no obvious pattern   condense cluster 1 7 8 into one \n",
    "add_napari_layer(adata, column = 'TraesCS2A03G0295100') \n",
    "add_napari_layer(adata, column = 'TraesCS2D03G0929500') \n",
    "add_napari_layer(adata, column = 'TraesCS1A03G0534900') \n",
    "add_napari_layer(adata, column = 'TraesCS2B03G1100500') \n",
    "add_napari_layer(adata, column = 'TraesCS1B03G0625100') \n",
    "add_napari_layer(adata, column = 'TraesCS7D03G1266700') \n",
    "add_napari_layer(adata, column = 'TraesCS4A03G0625000') \n",
    "add_napari_layer(adata, column = 'TraesCS7A03G0045400') \n",
    "add_napari_layer(adata, column = 'TraesCS4B03G0112400') \n",
    "add_napari_layer(adata, column = 'TraesCS3D03G0133700') \n",
    "add_napari_layer(adata, column = 'TraesCS2A03G0991200') \n",
    "add_napari_layer(adata, column = 'TraesCS2D03G0321900') \n",
    "add_napari_layer(adata, column = 'TraesCS5A03G0951600') \n",
    "add_napari_layer(adata, column = 'TraesCS6B03G1299400') \n",
    "add_napari_layer(adata, column = 'TraesCS2A03G0821300') \n",
    "add_napari_layer(adata, column = 'TraesCS7D03G0043000') \n",
    "add_napari_layer(adata, column = 'TraesCS5D03G0906800') \n",
    "add_napari_layer(adata, column = 'TraesCS2A03G1162700') \n",
    "add_napari_layer(adata, column = 'TraesCS1B03G0637100') \n",
    "add_napari_layer(adata, column = 'TraesCS2D03G0496100') \n",
    "\n",
    "\n",
    "\n",
    "\n",
    "\n",
    "\n"
   ]
  },
  {
   "cell_type": "code",
   "execution_count": 22,
   "metadata": {},
   "outputs": [
    {
     "name": "stdout",
     "output_type": "stream",
     "text": [
      "layer reused\n"
     ]
    }
   ],
   "source": [
    "# cluster 9 endodermis\n",
    "add_napari_layer(adata, column = 'TraesCS6D03G0764800') \n",
    "add_napari_layer(adata, column = 'TraesCS6A03G0889900') \n",
    "add_napari_layer(adata, column = 'TraesCS5A03G0962700') \n",
    "add_napari_layer(adata, column = 'TraesCS5D03G0492700') \n",
    "add_napari_layer(adata, column = 'TraesCS5B03G0538700') \n",
    "add_napari_layer(adata, column = 'TraesCS7A03G1365400') \n",
    "add_napari_layer(adata, column = 'TraesCS3D03G0720200') \n",
    "add_napari_layer(adata, column = 'TraesCS3B03G0898100') \n",
    "add_napari_layer(adata, column = 'TraesCS1B03G0907000') \n",
    "add_napari_layer(adata, column = 'TraesCS1B03G0907000') \n",
    "add_napari_layer(adata, column = 'TraesCS2D03G0692900') \n",
    "add_napari_layer(adata, column = 'TraesCS6A03G0661900') \n",
    "add_napari_layer(adata, column = 'TraesCS7B03G0218800') \n",
    "add_napari_layer(adata, column = 'TraesCS7D03G0401600') \n",
    "add_napari_layer(adata, column = 'TraesCS2B03G0423100') \n",
    "add_napari_layer(adata, column = 'TraesCS1D03G0105400') \n",
    "add_napari_layer(adata, column = 'TraesCS3A03G0429700') \n",
    "add_napari_layer(adata, column = 'TraesCS3D03G0402600') \n",
    "add_napari_layer(adata, column = 'TraesCS3B03G0508400') \n",
    "add_napari_layer(adata, column = 'TraesCS2D03G0321300') \n",
    "\n",
    "\n",
    "\n",
    "\n",
    "\n",
    "\n",
    "\n",
    "\n",
    "\n",
    "\n",
    "\n",
    "\n",
    "\n",
    "\n"
   ]
  },
  {
   "cell_type": "code",
   "execution_count": 23,
   "metadata": {},
   "outputs": [],
   "source": [
    "# cluster 9 endodermis \n",
    "add_napari_layer(adata, column = 'TraesCS6B03G1068700') \n",
    "add_napari_layer(adata, column = 'TraesCS5D03G0917200') \n",
    "add_napari_layer(adata, column = 'TraesCS5B03G1013000') \n",
    "add_napari_layer(adata, column = 'TraesCS3A03G0779600') \n",
    "add_napari_layer(adata, column = 'TraesCS5A03G0526900') \n",
    "add_napari_layer(adata, column = 'TraesCS1D03G0995400') \n",
    "add_napari_layer(adata, column = 'TraesCS1A03G0789700') \n",
    "add_napari_layer(adata, column = 'TraesCS7B03G1305600') \n",
    "add_napari_layer(adata, column = 'TraesCS2A03G0303400') \n",
    "add_napari_layer(adata, column = 'TraesCS7D03G1292400') \n",
    "add_napari_layer(adata, column = 'TraesCS2B03G0825500') \n",
    "add_napari_layer(adata, column = 'TraesCS1B03G0906900') \n",
    "add_napari_layer(adata, column = 'TraesCS3D03G0402300') \n",
    "add_napari_layer(adata, column = 'TraesCS3D03G0402800') \n",
    "add_napari_layer(adata, column = 'TraesCS6B03G0815900') \n",
    "add_napari_layer(adata, column = 'TraesCS3B03G0508500') \n",
    "add_napari_layer(adata, column = 'TraesCS7A03G0413900') \n",
    "add_napari_layer(adata, column = 'TraesCS1A03G0117100') \n",
    "add_napari_layer(adata, column = 'TraesCS6D03G0894200') \n",
    "add_napari_layer(adata, column = 'TraesCS1B03G0155900') \n",
    "\n",
    "\n",
    "\n",
    "\n",
    "\n",
    "\n",
    "\n",
    "\n",
    "\n",
    "\n"
   ]
  },
  {
   "cell_type": "code",
   "execution_count": 24,
   "metadata": {},
   "outputs": [],
   "source": [
    "# cluster 10 xylem\n",
    "add_napari_layer(adata, column = 'TraesCS7D03G1014000') \n",
    "add_napari_layer(adata, column = 'TraesCS4A03G0812200') \n",
    "add_napari_layer(adata, column = 'TraesCS2D03G0379800') \n",
    "add_napari_layer(adata, column = 'TraesCS1A03G0223500') \n",
    "add_napari_layer(adata, column = 'TraesCS1B03G0493300') \n",
    "add_napari_layer(adata, column = 'TraesCS2B03G0810100') \n",
    "add_napari_layer(adata, column = 'TraesCS5A03G0570800') \n",
    "add_napari_layer(adata, column = 'TraesCS3A03G0722200') \n",
    "add_napari_layer(adata, column = 'TraesCS2D03G0676600') \n",
    "add_napari_layer(adata, column = 'TraesCS7D03G0927700') \n",
    "add_napari_layer(adata, column = 'TraesCS2D03G0060400') \n",
    "add_napari_layer(adata, column = 'TraesCS5B03G0582100') \n",
    "add_napari_layer(adata, column = 'TraesCS1D03G0236500') \n",
    "add_napari_layer(adata, column = 'TraesCS1B03G0066500') \n",
    "add_napari_layer(adata, column = 'TraesCS2A03G0734000') \n",
    "add_napari_layer(adata, column = 'TraesCS2D03G0673900') \n",
    "add_napari_layer(adata, column = 'TraesCSU03G0020100') \n",
    "add_napari_layer(adata, column = 'TraesCS3D03G0666000') \n",
    "add_napari_layer(adata, column = 'TraesCS1D03G0371000') \n",
    "add_napari_layer(adata, column = 'TraesCS1B03G0325900') \n",
    "add_napari_layer(adata, column = 'TraesCS5D03G0536900') \n",
    "add_napari_layer(adata, column = 'TraesCS7B03G1041300') \n",
    "add_napari_layer(adata, column = 'TraesCS3A03G0987500') \n",
    "add_napari_layer(adata, column = 'TraesCS2D03G0381300') \n",
    "add_napari_layer(adata, column = 'TraesCS2A03G0364600') \n",
    "add_napari_layer(adata, column = 'TraesCS2B03G0806600') \n",
    "add_napari_layer(adata, column = 'TraesCS1A03G0402200') \n",
    "add_napari_layer(adata, column = 'TraesCS6A03G0080100') \n",
    "add_napari_layer(adata, column = 'TraesCS4B03G0486500') \n",
    "add_napari_layer(adata, column = 'TraesCS3D03G0008300') \n",
    "add_napari_layer(adata, column = 'TraesCS1B03G0516300') \n",
    "add_napari_layer(adata, column = 'TraesCS2A03G0730800') \n",
    "add_napari_layer(adata, column = 'TraesCS3B03G0012900') \n",
    "add_napari_layer(adata, column = 'TraesCS1D03G0402900') \n",
    "add_napari_layer(adata, column = 'TraesCSU03G0019900') \n",
    "add_napari_layer(adata, column = 'TraesCS4A03G0280400') \n",
    "add_napari_layer(adata, column = 'TraesCS3B03G1344800') \n",
    "add_napari_layer(adata, column = 'TraesCS7D03G0430200') \n",
    "add_napari_layer(adata, column = 'TraesCS2B03G0484900') \n",
    "add_napari_layer(adata, column = 'TraesCS4D03G0434100') \n",
    "add_napari_layer(adata, column = 'TraesCS7A03G0446200') \n",
    "add_napari_layer(adata, column = 'TraesCS7A03G0969300') \n",
    "add_napari_layer(adata, column = 'TraesCS7B03G0805100') \n",
    "add_napari_layer(adata, column = 'TraesCS6D03G0082600') \n",
    "add_napari_layer(adata, column = 'TraesCS6D03G0654300') \n",
    "add_napari_layer(adata, column = 'TraesCS1D03G0049400') \n",
    "add_napari_layer(adata, column = 'TraesCS1A03G0062800') \n",
    "add_napari_layer(adata, column = 'TraesCS5B03G0387000') \n",
    "add_napari_layer(adata, column = 'TraesCS5A03G0388600') \n",
    "add_napari_layer(adata, column = 'TraesCS5D03G0377000') \n",
    "\n",
    "\n"
   ]
  },
  {
   "cell_type": "code",
   "execution_count": 25,
   "metadata": {},
   "outputs": [],
   "source": [
    "# cluster 11  something close to cluster 4 provascular cells  should be merged \n",
    "add_napari_layer(adata, column = 'TraesCS7B03G0003800') \n",
    "add_napari_layer(adata, column = 'TraesCS2A03G0775400') \n",
    "add_napari_layer(adata, column = 'TraesCS2A03G0180600') \n",
    "add_napari_layer(adata, column = 'TraesCS4A03G1032000') \n",
    "add_napari_layer(adata, column = 'TraesCS6A03G0965900') \n",
    "add_napari_layer(adata, column = 'TraesCS7D03G1266100') \n",
    "add_napari_layer(adata, column = 'TraesCS2D03G0715400') \n",
    "add_napari_layer(adata, column = 'TraesCS2D03G0958800') \n",
    "add_napari_layer(adata, column = 'TraesCS6D03G0845500') \n",
    "add_napari_layer(adata, column = 'TraesCS7D03G0146000') \n",
    "add_napari_layer(adata, column = 'TraesCS2B03G0856800') \n",
    "add_napari_layer(adata, column = 'TraesCS5D03G1233700') \n",
    "add_napari_layer(adata, column = 'TraesCS5B03G1379500') \n",
    "add_napari_layer(adata, column = 'TraesCS3B03G0850100') \n",
    "add_napari_layer(adata, column = 'TraesCS3A03G0744700') \n",
    "add_napari_layer(adata, column = 'TraesCS3D03G0686200') \n",
    "add_napari_layer(adata, column = 'TraesCS2D03G0276000LC') \n",
    "add_napari_layer(adata, column = 'TraesCS2B03G0368000') \n",
    "add_napari_layer(adata, column = 'TraesCS1B03G0711800') \n",
    "add_napari_layer(adata, column = 'TraesCS4D03G0661400') \n",
    "\n",
    "\n",
    "\n",
    "\n",
    "\n",
    "\n",
    "\n",
    "\n",
    "\n",
    "\n",
    "\n",
    "\n"
   ]
  },
  {
   "cell_type": "code",
   "execution_count": 26,
   "metadata": {},
   "outputs": [],
   "source": [
    "# cluster 12 dividing cells\n",
    "add_napari_layer(adata, column = 'TraesCS1A03G0768800') \n",
    "add_napari_layer(adata, column = 'TraesCS7B03G0367600') \n",
    "add_napari_layer(adata, column = 'TraesCS5B03G1032700') \n",
    "add_napari_layer(adata, column = 'TraesCS5D03G0934500') \n",
    "add_napari_layer(adata, column = 'TraesCS5A03G0986700') \n",
    "add_napari_layer(adata, column = 'TraesCS3B03G1062100') \n",
    "add_napari_layer(adata, column = 'TraesCS3A03G0732200LC') \n",
    "add_napari_layer(adata, column = 'TraesCS1B03G0879500') \n",
    "add_napari_layer(adata, column = 'TraesCS7D03G1262100') \n",
    "add_napari_layer(adata, column = 'TraesCS1D03G0508400') \n",
    "add_napari_layer(adata, column = 'TraesCS1D03G0735800') \n",
    "add_napari_layer(adata, column = 'TraesCS7A03G1335600') \n",
    "add_napari_layer(adata, column = 'TraesCS1B03G0616100') \n",
    "add_napari_layer(adata, column = 'TraesCS3A03G0935100') \n",
    "add_napari_layer(adata, column = 'TraesCS2A03G0132400') \n",
    "add_napari_layer(adata, column = 'TraesCS3D03G0969300') \n",
    "add_napari_layer(adata, column = 'TraesCS7B03G1269700') \n",
    "add_napari_layer(adata, column = 'TraesCS1A03G0526900') \n",
    "add_napari_layer(adata, column = 'TraesCS3B03G1202600') \n",
    "add_napari_layer(adata, column = 'TraesCS4D03G0742700') \n",
    "add_napari_layer(adata, column = 'TraesCS3B03G0918400') \n",
    "add_napari_layer(adata, column = 'TraesCS4B03G0833500') \n",
    "add_napari_layer(adata, column = 'TraesCS3D03G0735900') \n",
    "add_napari_layer(adata, column = 'TraesCS2D03G0129500') \n",
    "add_napari_layer(adata, column = 'TraesCS3A03G0796600') \n",
    "add_napari_layer(adata, column = 'TraesCS2B03G0955500') \n",
    "add_napari_layer(adata, column = 'TraesCS2A03G0863000') \n",
    "add_napari_layer(adata, column = 'TraesCS3B03G0839200LC') \n",
    "add_napari_layer(adata, column = 'TraesCS2D03G0803000') \n",
    "\n",
    "\n",
    "\n",
    "\n",
    "\n",
    "\n",
    "\n",
    "\n",
    "\n",
    "\n",
    "\n",
    "\n",
    "\n",
    "\n",
    "\n",
    "\n"
   ]
  },
  {
   "cell_type": "code",
   "execution_count": 11,
   "metadata": {},
   "outputs": [],
   "source": [
    "# cluster 13 \n",
    "add_napari_layer(adata, column = 'TraesCS2B03G0108200') \n",
    "add_napari_layer(adata, column = 'TraesCS2D03G0068900') \n",
    "add_napari_layer(adata, column = 'TraesCS3B03G0900500') \n",
    "add_napari_layer(adata, column = 'TraesCS2A03G0073400') \n",
    "add_napari_layer(adata, column = 'TraesCS3D03G0721900') \n",
    "add_napari_layer(adata, column = 'TraesCS3A03G0782300') \n",
    "add_napari_layer(adata, column = 'TraesCS1D03G0884600') \n",
    "add_napari_layer(adata, column = 'TraesCS3D03G0599200') \n",
    "add_napari_layer(adata, column = 'TraesCS6A03G0666600') \n",
    "add_napari_layer(adata, column = 'TraesCS3A03G0654700') \n",
    "add_napari_layer(adata, column = 'TraesCS1D03G0605000') \n",
    "add_napari_layer(adata, column = 'TraesCS1B03G0733300') \n",
    "add_napari_layer(adata, column = 'TraesCS1A03G0647000') \n",
    "add_napari_layer(adata, column = 'TraesCS1A03G0906900') \n",
    "add_napari_layer(adata, column = 'TraesCS3B03G0742300') \n",
    "add_napari_layer(adata, column = 'TraesCS6A03G0202900') \n",
    "add_napari_layer(adata, column = 'TraesCS4D03G0020800') \n",
    "add_napari_layer(adata, column = 'TraesCS7D03G0500500') \n",
    "add_napari_layer(adata, column = 'TraesCS5D03G0557600') \n",
    "add_napari_layer(adata, column = 'TraesCS3B03G0486000') \n",
    "\n",
    "\n",
    "\n",
    "\n",
    "\n",
    "\n",
    "\n"
   ]
  },
  {
   "cell_type": "code",
   "execution_count": 12,
   "metadata": {},
   "outputs": [],
   "source": [
    "# cluster 13\n",
    "add_napari_layer(adata, column = 'TraesCS6B03G0810000') \n",
    "add_napari_layer(adata, column = 'TraesCS5A03G0536500') \n",
    "add_napari_layer(adata, column = 'TraesCS6B03G0398800') \n",
    "add_napari_layer(adata, column = 'TraesCS6A03G0306800') \n",
    "add_napari_layer(adata, column = 'TraesCS4D03G0760800') \n",
    "add_napari_layer(adata, column = 'TraesCS7B03G0335800') \n",
    "add_napari_layer(adata, column = 'TraesCS4B03G0030200') \n",
    "add_napari_layer(adata, column = 'TraesCS6B03G0270900') \n",
    "add_napari_layer(adata, column = 'TraesCS3A03G1157200') \n",
    "add_napari_layer(adata, column = 'TraesCS5A03G0819000') \n",
    "add_napari_layer(adata, column = 'TraesCS3B03G1380200') \n",
    "add_napari_layer(adata, column = 'TraesCS4A03G0754700') \n",
    "add_napari_layer(adata, column = 'TraesCS3B03G0494600') \n",
    "add_napari_layer(adata, column = 'TraesCS4B03G0725300') \n",
    "add_napari_layer(adata, column = 'TraesCS3A03G0407400') \n",
    "add_napari_layer(adata, column = 'TraesCS6B03G0419400') \n",
    "add_napari_layer(adata, column = 'TraesCS1D03G0349000') \n",
    "add_napari_layer(adata, column = 'TraesCS3A03G0709800') \n",
    "add_napari_layer(adata, column = 'TraesCS3D03G0382200') \n",
    "add_napari_layer(adata, column = 'TraesCS4D03G0091800') \n",
    "\n"
   ]
  },
  {
   "cell_type": "code",
   "execution_count": 13,
   "metadata": {},
   "outputs": [],
   "source": [
    "# cluster 13\n",
    "add_napari_layer(adata, column = 'TraesCS3D03G1105300') \n",
    "add_napari_layer(adata, column = 'TraesCS1A03G0542800') \n",
    "add_napari_layer(adata, column = 'TraesCS3A03G0390900') \n",
    "add_napari_layer(adata, column = 'TraesCS1B03G0715800LC') \n",
    "add_napari_layer(adata, column = 'TraesCS1D03G0587800') \n",
    "add_napari_layer(adata, column = 'TraesCS4A03G0687000') \n",
    "add_napari_layer(adata, column = 'TraesCS6D03G0279900') \n",
    "add_napari_layer(adata, column = 'TraesCS1A03G0361700') \n",
    "add_napari_layer(adata, column = 'TraesCS1B03G0450900') \n",
    "add_napari_layer(adata, column = 'TraesCS4B03G0108300') \n",
    "add_napari_layer(adata, column = 'TraesCS1A03G0626900') \n",
    "add_napari_layer(adata, column = 'TraesCS5B03G0548000') \n",
    "add_napari_layer(adata, column = 'TraesCS5A03G1176600LC') \n",
    "add_napari_layer(adata, column = 'TraesCS7B03G0047600') \n",
    "add_napari_layer(adata, column = 'TraesCS2D03G0137900') \n",
    "add_napari_layer(adata, column = 'TraesCS4A03G0321300') \n",
    "add_napari_layer(adata, column = 'TraesCS5D03G0143700') \n",
    "add_napari_layer(adata, column = 'TraesCS2A03G0138900') \n",
    "add_napari_layer(adata, column = 'TraesCS5A03G1176700') \n",
    "add_napari_layer(adata, column = 'TraesCS3B03G0001000') \n",
    "\n",
    "\n"
   ]
  },
  {
   "cell_type": "code",
   "execution_count": 14,
   "metadata": {},
   "outputs": [],
   "source": [
    "# cluster 13\n",
    "add_napari_layer(adata, column = 'TraesCS3A03G0589600') \n",
    "add_napari_layer(adata, column = 'TraesCS5D03G0500000') \n",
    "add_napari_layer(adata, column = 'TraesCS2B03G0197500') \n",
    "add_napari_layer(adata, column = 'TraesCS1A03G0652600') \n",
    "add_napari_layer(adata, column = 'TraesCS5B03G0133000') \n",
    "add_napari_layer(adata, column = 'TraesCS7D03G0337200') \n",
    "add_napari_layer(adata, column = 'TraesCSU03G0052100') \n",
    "add_napari_layer(adata, column = 'TraesCS4D03G0761000') \n",
    "add_napari_layer(adata, column = 'TraesCS6D03G0676700') \n",
    "add_napari_layer(adata, column = 'TraesCS5D03G0156400') \n",
    "add_napari_layer(adata, column = 'TraesCS5D03G0993000') \n",
    "add_napari_layer(adata, column = 'TraesCS4B03G0725100') \n",
    "add_napari_layer(adata, column = 'TraesCS7A03G0853800') \n",
    "add_napari_layer(adata, column = 'TraesCS4D03G0645400') \n",
    "add_napari_layer(adata, column = 'TraesCS7D03G0567100') \n",
    "add_napari_layer(adata, column = 'TraesCS6B03G0482100') \n",
    "add_napari_layer(adata, column = 'TraesCS6D03G0555500') \n",
    "add_napari_layer(adata, column = 'TraesCS1D03G0173900') \n",
    "add_napari_layer(adata, column = 'TraesCS3D03G0090600') \n",
    "add_napari_layer(adata, column = 'TraesCS5A03G1177000') "
   ]
  },
  {
   "cell_type": "code",
   "execution_count": 15,
   "metadata": {},
   "outputs": [],
   "source": [
    "# cluster 13\n",
    "add_napari_layer(adata, column = 'TraesCS7D03G0264400') \n",
    "add_napari_layer(adata, column = 'TraesCS4A03G0061200LC') \n",
    "add_napari_layer(adata, column = 'TraesCS2A03G1339100') \n",
    "add_napari_layer(adata, column = 'TraesCS1B03G0015300') \n",
    "add_napari_layer(adata, column = 'TraesCS1A03G0916900') \n",
    "add_napari_layer(adata, column = 'TraesCS2D03G1309000') \n",
    "add_napari_layer(adata, column = 'TraesCS7B03G0314400') \n",
    "add_napari_layer(adata, column = 'TraesCS5D03G0499900') \n",
    "add_napari_layer(adata, column = 'TraesCS1D03G0528800') \n",
    "add_napari_layer(adata, column = 'TraesCS1B03G0653700') \n",
    "add_napari_layer(adata, column = 'TraesCS7A03G0285400') \n",
    "add_napari_layer(adata, column = 'TraesCS2A03G0466400') \n",
    "add_napari_layer(adata, column = 'TraesCS5A03G1054700') \n",
    "add_napari_layer(adata, column = 'TraesCS2A03G1034400') \n",
    "add_napari_layer(adata, column = 'TraesCS2D03G0978200') \n",
    "add_napari_layer(adata, column = 'TraesCS2D03G0915700') \n",
    "add_napari_layer(adata, column = 'TraesCS5B03G0852500') \n",
    "add_napari_layer(adata, column = 'TraesCSU03G0248400') \n",
    "add_napari_layer(adata, column = 'TraesCS6B03G0945800') \n",
    "add_napari_layer(adata, column = 'TraesCS1B03G1177400') \n",
    "\n"
   ]
  },
  {
   "cell_type": "code",
   "execution_count": 16,
   "metadata": {},
   "outputs": [],
   "source": [
    "# cluster 13\n",
    "add_napari_layer(adata, column = 'TraesCS1B03G1064900') \n",
    "add_napari_layer(adata, column = 'TraesCS4D03G0645300') \n",
    "add_napari_layer(adata, column = 'TraesCS6A03G0762000') \n",
    "add_napari_layer(adata, column = 'TraesCS4B03G0329500') \n",
    "add_napari_layer(adata, column = 'TraesCS1B03G0740500') \n",
    "add_napari_layer(adata, column = 'TraesCS2B03G1081500') \n",
    "add_napari_layer(adata, column = 'TraesCS5A03G1214500') \n",
    "add_napari_layer(adata, column = 'TraesCS7A03G0988200') \n",
    "add_napari_layer(adata, column = 'TraesCS7D03G0820700') \n",
    "add_napari_layer(adata, column = 'TraesCS7D03G0865700') \n",
    "add_napari_layer(adata, column = 'TraesCS1A03G0015600') \n",
    "add_napari_layer(adata, column = 'TraesCS2A03G1116900') \n",
    "add_napari_layer(adata, column = 'TraesCS2B03G1570200') \n",
    "add_napari_layer(adata, column = 'TraesCS3A03G0103400') \n",
    "add_napari_layer(adata, column = 'TraesCS7B03G0825600') \n",
    "add_napari_layer(adata, column = 'TraesCS5A03G0133800') \n",
    "add_napari_layer(adata, column = 'TraesCS4D03G0534000') \n",
    "add_napari_layer(adata, column = 'TraesCS1A03G0658100') \n",
    "add_napari_layer(adata, column = 'TraesCS1D03G1022100') \n",
    "add_napari_layer(adata, column = 'TraesCS2A03G0976200') "
   ]
  },
  {
   "cell_type": "code",
   "execution_count": 17,
   "metadata": {},
   "outputs": [],
   "source": [
    "# cluster 13\n",
    "add_napari_layer(adata, column = 'TraesCS5B03G1350700') \n",
    "add_napari_layer(adata, column = 'TraesCS1B03G1257600') \n",
    "add_napari_layer(adata, column = 'TraesCS1B03G0245300') \n",
    "add_napari_layer(adata, column = 'TraesCS7D03G1119700') \n",
    "add_napari_layer(adata, column = 'TraesCS5D03G0647900') \n",
    "add_napari_layer(adata, column = 'TraesCS4B03G0030100') \n",
    "add_napari_layer(adata, column = 'TraesCS7B03G1048700') \n",
    "add_napari_layer(adata, column = 'TraesCS6D03G0278900') \n",
    "add_napari_layer(adata, column = 'TraesCS2B03G1160800') \n",
    "add_napari_layer(adata, column = 'TraesCS7D03G0783400') \n",
    "add_napari_layer(adata, column = 'TraesCS5B03G1104600') \n",
    "add_napari_layer(adata, column = 'TraesCS4D03G0801600') \n",
    "add_napari_layer(adata, column = 'TraesCS1A03G0178500') \n",
    "add_napari_layer(adata, column = 'TraesCS4B03G0725200') \n",
    "add_napari_layer(adata, column = 'TraesCS3A03G0666400') \n",
    "add_napari_layer(adata, column = 'TraesCS5A03G0121700') \n",
    "add_napari_layer(adata, column = 'TraesCS7B03G1048800') \n",
    "add_napari_layer(adata, column = 'TraesCS7A03G0498400') \n",
    "add_napari_layer(adata, column = 'TraesCS5B03G0158100') \n",
    "add_napari_layer(adata, column = 'TraesCS5A03G1287500') \n",
    "\n"
   ]
  },
  {
   "cell_type": "code",
   "execution_count": 18,
   "metadata": {},
   "outputs": [],
   "source": [
    "# cluster 13\n",
    "add_napari_layer(adata, column = 'TraesCS5D03G0451100') \n",
    "add_napari_layer(adata, column = 'TraesCS5D03G0780700') \n",
    "add_napari_layer(adata, column = 'TraesCS5B03G1381100') \n",
    "add_napari_layer(adata, column = 'TraesCS3B03G0761200') \n",
    "add_napari_layer(adata, column = 'TraesCS1A03G0548800') \n",
    "add_napari_layer(adata, column = 'TraesCS5B03G0609100') \n",
    "add_napari_layer(adata, column = 'TraesCS3A03G0413300') \n",
    "add_napari_layer(adata, column = 'TraesCS1B03G1081000') \n",
    "add_napari_layer(adata, column = 'TraesCS7B03G0218400') \n",
    "add_napari_layer(adata, column = 'TraesCS5A03G0594800') "
   ]
  },
  {
   "cell_type": "code",
   "execution_count": 19,
   "metadata": {},
   "outputs": [],
   "source": [
    "# Cluster  14\n",
    "add_napari_layer(adata, column = 'TraesCS7D03G0226600') \n",
    "add_napari_layer(adata, column = 'TraesCS3D03G0697200') \n",
    "add_napari_layer(adata, column = 'TraesCS2D03G0971100') \n",
    "add_napari_layer(adata, column = 'TraesCS3D03G0382600') \n",
    "add_napari_layer(adata, column = 'TraesCS2A03G1032300') \n",
    "add_napari_layer(adata, column = 'TraesCS3B03G0864600') \n",
    "add_napari_layer(adata, column = 'TraesCS1D03G0043400') \n",
    "add_napari_layer(adata, column = 'TraesCS3D03G1163600') \n",
    "add_napari_layer(adata, column = 'TraesCS3B03G1268400') \n",
    "add_napari_layer(adata, column = 'TraesCS3D03G1163500') \n",
    "add_napari_layer(adata, column = 'TraesCS3A03G0756500') \n",
    "add_napari_layer(adata, column = 'TraesCS1A03G0053300') \n",
    "add_napari_layer(adata, column = 'TraesCS3B03G1464600') \n",
    "add_napari_layer(adata, column = 'TraesCS1B03G0058000') \n",
    "add_napari_layer(adata, column = 'TraesCS3B03G1464500') \n",
    "add_napari_layer(adata, column = 'TraesCS2B03G1153200') \n",
    "add_napari_layer(adata, column = 'TraesCS2D03G0971700') \n",
    "add_napari_layer(adata, column = 'TraesCS3A03G1224300') \n",
    "add_napari_layer(adata, column = 'TraesCS2D03G0971800') \n",
    "add_napari_layer(adata, column = 'TraesCS3D03G1163700') \n",
    "\n",
    "\n",
    "\n",
    "\n",
    "\n",
    "\n",
    "\n",
    "\n",
    "\n",
    "\n",
    "\n",
    "\n",
    "\n",
    "\n",
    "\n"
   ]
  },
  {
   "cell_type": "code",
   "execution_count": 20,
   "metadata": {},
   "outputs": [],
   "source": [
    "# Cluster 14\n",
    "add_napari_layer(adata, column = 'TraesCS2B03G1399100') \n",
    "add_napari_layer(adata, column = 'TraesCS6B03G0167500') \n",
    "add_napari_layer(adata, column = 'TraesCS2B03G1214600') \n",
    "add_napari_layer(adata, column = 'TraesCS3A03G1226700') \n",
    "add_napari_layer(adata, column = 'TraesCS3D03G0655200') \n",
    "add_napari_layer(adata, column = 'TraesCS2A03G1032100') \n",
    "add_napari_layer(adata, column = 'TraesCS2D03G1025100') \n",
    "add_napari_layer(adata, column = 'TraesCS3A03G1224100') \n",
    "add_napari_layer(adata, column = 'TraesCS6A03G0118600') \n",
    "add_napari_layer(adata, column = 'TraesCS2A03G1083300') \n",
    "add_napari_layer(adata, column = 'TraesCS3B03G0460700') \n",
    "add_napari_layer(adata, column = 'TraesCS3A03G0390700') \n",
    "add_napari_layer(adata, column = 'TraesCS3B03G1468100') \n",
    "add_napari_layer(adata, column = 'TraesCS3B03G1468200') \n",
    "add_napari_layer(adata, column = 'TraesCS3D03G0361400') \n",
    "add_napari_layer(adata, column = 'TraesCS7A03G0910800') \n",
    "add_napari_layer(adata, column = 'TraesCS5D03G0905800') \n",
    "add_napari_layer(adata, column = 'TraesCS4D03G0755100') \n",
    "add_napari_layer(adata, column = 'TraesCS2A03G1031900') \n",
    "\n"
   ]
  },
  {
   "cell_type": "code",
   "execution_count": 38,
   "metadata": {},
   "outputs": [
    {
     "name": "stderr",
     "output_type": "stream",
     "text": [
      "/Users/yujike/opt/anaconda3/envs/Pandas/lib/python3.8/site-packages/napari/_vispy/layers/image.py:259: UserWarning: data shape (26450, 26459) exceeds GL_MAX_TEXTURE_SIZE 16384 in at least one axis and will be downsampled. Rendering is currently in 2D mode.\n",
      "  warnings.warn(\n",
      "/Users/yujike/opt/anaconda3/envs/Pandas/lib/python3.8/site-packages/napari/_vispy/layers/image.py:259: UserWarning: data shape (26450, 26459) exceeds GL_MAX_TEXTURE_SIZE 16384 in at least one axis and will be downsampled. Rendering is currently in 2D mode.\n",
      "  warnings.warn(\n"
     ]
    }
   ],
   "source": [
    "# Cortex\n",
    "add_napari_layer(adata, column = 'TraesCS3B03G1120300')  # Cortex 1\n",
    "add_napari_layer(adata, column = 'TraesCS2B03G1501600')  # Cortex 2"
   ]
  },
  {
   "cell_type": "code",
   "execution_count": null,
   "metadata": {},
   "outputs": [],
   "source": [
    "# Xylem\n",
    "add_napari_layer(adata, column = 'TraesCS5D03G0377000')  # Xylem 1\n",
    "add_napari_layer(adata, column = 'TraesCS5B03G0387000')  # Xylem 2\n",
    "add_napari_layer(adata, column = 'TraesCS1A03G0062800')  # Xylem 3"
   ]
  },
  {
   "cell_type": "code",
   "execution_count": null,
   "metadata": {},
   "outputs": [],
   "source": [
    "# Phloem\n",
    "add_napari_layer(adata, column = 'TraesCS6A03G0459900')  # Phloem 1"
   ]
  },
  {
   "cell_type": "code",
   "execution_count": null,
   "metadata": {},
   "outputs": [],
   "source": [
    "# Pericycle\n",
    "add_napari_layer(adata, column = 'TraesCS4D03G0748700')  # Pericycle 1\n",
    "add_napari_layer(adata, column = 'TraesCS4B03G0840800')  # Pericycle 1"
   ]
  },
  {
   "cell_type": "code",
   "execution_count": null,
   "metadata": {},
   "outputs": [],
   "source": [
    "# Endodermis\n",
    "add_napari_layer(adata, column = 'TraesCS7B03G0854100')  # Endodermis 1"
   ]
  },
  {
   "cell_type": "code",
   "execution_count": null,
   "metadata": {},
   "outputs": [],
   "source": [
    "# Epidermis\n",
    "add_napari_layer(adata, column = 'TraesCS2B03G0426800')  # Epidermis 1\n",
    "add_napari_layer(adata, column = 'TraesCS2B03G0426900')  # Epidermis 2\n",
    "add_napari_layer(adata, column = 'TraesCS2D03G0324500')  # Epidermis 3\n",
    "add_napari_layer(adata, column = 'TraesCS5D03G1173000')  # Epidermis 4\n",
    "add_napari_layer(adata, column = 'TraesCS7B03G1286700')  # Epidermis 5"
   ]
  },
  {
   "cell_type": "code",
   "execution_count": null,
   "metadata": {},
   "outputs": [],
   "source": [
    "# House-keeping genes\n",
    "add_napari_layer(adata, column = 'TraesCS1B03G0048800')  # Actin 1\n",
    "add_napari_layer(adata, column = 'TraesCS1D03G0038800')  # Actin 2"
   ]
  },
  {
   "cell_type": "code",
   "execution_count": 14,
   "metadata": {},
   "outputs": [
    {
     "name": "stdout",
     "output_type": "stream",
     "text": [
      "layer reused\n"
     ]
    }
   ],
   "source": [
    "# Provascular cells\n",
    "add_napari_layer(adata, column = 'TraesCS3A03G0016400') # WAT1\n",
    "add_napari_layer(adata, column = 'TraesCS1B03G0051800') # WAT1\n",
    "add_napari_layer(adata, column = 'TraesCS3B03G0036500') # WAT1\n",
    "add_napari_layer(adata, column = 'TraesCS3D03G0013700') # WAT1\n",
    "add_napari_layer(adata, column = 'TraesCS1B03G0053600') # WAT1\n"
   ]
  },
  {
   "cell_type": "code",
   "execution_count": 39,
   "metadata": {},
   "outputs": [],
   "source": [
    "# S phase  \n",
    "add_napari_layer(adata, column = 'TraesCS1A03G0879600') # \n",
    "add_napari_layer(adata, column = 'TraesCS1A03G0879000') # \n",
    "add_napari_layer(adata, column = 'TraesCS1D03G0853100') # \n",
    "add_napari_layer(adata, column = 'TraesCS3A03G0316900') # \n",
    "add_napari_layer(adata, column = 'TraesCS1A03G0723300') # \n",
    "\n"
   ]
  },
  {
   "cell_type": "code",
   "execution_count": 1,
   "metadata": {},
   "outputs": [],
   "source": [
    "# Read the contents of the input file\n",
    "with open('/Users/yujike/Desktop/Molecular_Plant_2023/cross-species/rice/Zhang_rice/MINI-EX2.0/SCT_count_matrix.txt', 'r') as infile:\n",
    "    lines = infile.readlines()\n",
    "\n",
    "# Create a dictionary to track lines based on their first column value\n",
    "seen_first_column = {}\n",
    "\n",
    "# Collect unique lines while keeping one instance of each value\n",
    "unique_lines = []\n",
    "for line in lines:\n",
    "    columns = line.strip().split('\\t')  # Assuming columns are tab-separated\n",
    "    first_column_value = columns[0]\n",
    "    \n",
    "    if first_column_value not in seen_first_column:\n",
    "        unique_lines.append(line)\n",
    "        seen_first_column[first_column_value] = True\n",
    "\n",
    "# Write the unique lines back to the file\n",
    "with open('/Users/yujike/Desktop/Molecular_Plant_2023/cross-species/rice/Zhang_rice/MINI-EX2.0/SCT_count_matrix.txt', 'w') as outfile:\n",
    "    outfile.writelines(unique_lines)\n",
    "    "
   ]
  }
 ],
 "metadata": {
  "kernelspec": {
   "display_name": "napari-sparrow",
   "language": "python",
   "name": "python3"
  },
  "language_info": {
   "codemirror_mode": {
    "name": "ipython",
    "version": 3
   },
   "file_extension": ".py",
   "mimetype": "text/x-python",
   "name": "python",
   "nbconvert_exporter": "python",
   "pygments_lexer": "ipython3",
   "version": "3.8.12"
  },
  "orig_nbformat": 4
 },
 "nbformat": 4,
 "nbformat_minor": 2
}
